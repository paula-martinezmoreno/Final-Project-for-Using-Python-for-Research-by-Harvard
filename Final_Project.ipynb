{
  "nbformat": 4,
  "nbformat_minor": 0,
  "metadata": {
    "colab": {
      "provenance": [],
      "mount_file_id": "1adfl0eKjnujsnkOFBUDRgLKGOc_RBzCs",
      "authorship_tag": "ABX9TyPFIiOkQWyjxmtO96QqsO2T",
      "include_colab_link": true
    },
    "kernelspec": {
      "name": "python3",
      "display_name": "Python 3"
    },
    "language_info": {
      "name": "python"
    },
    "accelerator": "TPU"
  },
  "cells": [
    {
      "cell_type": "markdown",
      "metadata": {
        "id": "view-in-github",
        "colab_type": "text"
      },
      "source": [
        "<a href=\"https://colab.research.google.com/github/paula-martinezmoreno/Final-Project-for-Using-Python-for-Research-by-Harvard/blob/main/Final_Project.ipynb\" target=\"_parent\"><img src=\"https://colab.research.google.com/assets/colab-badge.svg\" alt=\"Open In Colab\"/></a>"
      ]
    },
    {
      "cell_type": "markdown",
      "source": [
        "# Final Project\n",
        "HarvardX PH526x\n",
        "\n",
        "### **Using Python for Research**"
      ],
      "metadata": {
        "id": "6Wg3_Vw4IgdP"
      }
    },
    {
      "cell_type": "markdown",
      "source": [
        "**Objective**: Predict the type of physical activity (e.g.,walking, climbing stairs) from tri-axial smartphone accelerometer data."
      ],
      "metadata": {
        "id": "YZ764Q6RIyzA"
      }
    },
    {
      "cell_type": "markdown",
      "source": [
        "Smartphone accelerometers are very precise, and different physical activities give rise to different patterns of acceleration.\n",
        "\n",
        "**Project Overview**\n",
        "\n",
        "This project involves predicting physical activities using smartphone accelerometer data. We will preprocess the data, perform exploratory data analysis, create new features, and build machine learning models to classify the activities.\n",
        "\n",
        "\n"
      ],
      "metadata": {
        "id": "iv7qk05yJH_V"
      }
    },
    {
      "cell_type": "markdown",
      "source": [
        "**Input Data**\n",
        "\n",
        "The input data used for training in this project consists of two files:  \n",
        "\n",
        "1. The first file,` train_time_series.csv` , contains the raw accelerometer data, which has been collected using the [Beiwe research platform](https://github.com/onnela-lab/beiwe-backend), and it has the following format:\n",
        "\n",
        "        timestamp ,  UTC time , accuracy, x , y , z\n",
        "\n",
        "  We will use the timestamp column as the time variable; you'll also need the last three columns, here labeled x, y, and z, which correspond to measurements of linear acceleration along each of the three orthogonal axes.\n",
        "\n",
        "2. The second file, `train_labels.csv `, contains the activity labels, and we will be using these labels to train your model. Different activities have been numbered with integers. We use the following encoding:\n",
        "\n",
        "        1.   1 = standing\n",
        "        2.   2 = walking\n",
        "        3.   3 = stairs down\n",
        "        4.   4 = stairs up\n",
        "\n",
        "  Because the accelerometers are sampled at high frequency, the labels in train_labels.csv are only provided for every 10th observation in train_time_series.csv.\n"
      ],
      "metadata": {
        "id": "wFgRm-r_JaaP"
      }
    },
    {
      "cell_type": "markdown",
      "source": [
        "**Activity Classification**\n",
        "\n",
        "The goal is to classify different physical activities as accurately as possible. The test data (`test_time_series.csv`) will be used to validate the model, and we will submit predictions in `test_labels.csv`.\n"
      ],
      "metadata": {
        "id": "dKkpUBfX7wcI"
      }
    },
    {
      "cell_type": "code",
      "source": [
        "# Start the timer\n",
        "import time\n",
        "start_time = time.time()\n"
      ],
      "metadata": {
        "id": "m2FAUp87atWK"
      },
      "execution_count": null,
      "outputs": []
    },
    {
      "cell_type": "markdown",
      "source": [
        "## Importing the necessary libraries"
      ],
      "metadata": {
        "id": "7YIwEnDK9Gpk"
      }
    },
    {
      "cell_type": "code",
      "source": [
        "## Importing the necessary libraries\n",
        "import pandas as pd\n",
        "import numpy as np\n",
        "from numpy import savetxt\n",
        "import matplotlib.pyplot as plt\n",
        "import seaborn as sns\n",
        "import math\n",
        "from sklearn.model_selection import train_test_split\n",
        "from sklearn.naive_bayes import BernoulliNB, GaussianNB\n",
        "from sklearn.tree import DecisionTreeClassifier, ExtraTreeClassifier\n",
        "from sklearn.ensemble import ExtraTreesClassifier, RandomForestClassifier\n",
        "from sklearn.neural_network import MLPClassifier\n",
        "from sklearn.discriminant_analysis import QuadraticDiscriminantAnalysis\n",
        "from sklearn.linear_model import LogisticRegression, RidgeClassifier\n",
        "from sklearn.preprocessing import StandardScaler\n",
        "from sklearn.feature_selection import SelectKBest, f_classif\n",
        "from sklearn.metrics import accuracy_score"
      ],
      "metadata": {
        "id": "0ErGqSEtBKxm"
      },
      "execution_count": 1,
      "outputs": []
    },
    {
      "cell_type": "markdown",
      "source": [
        "## Load the data"
      ],
      "metadata": {
        "id": "AO_oWpHQBbue"
      }
    },
    {
      "cell_type": "code",
      "source": [
        "#Import the training data\n",
        "train_time=pd.read_csv('/content/train_time_series.csv')\n",
        "train_labels=pd.read_csv('/content/train_labels.csv')\n",
        "\n",
        "#Import the data\n",
        "test_time=pd.read_csv('/content/test_time_series.csv')\n",
        "test_label=pd.read_csv('/content/test_labels.csv')"
      ],
      "metadata": {
        "id": "Q8XWkWqhBfXH"
      },
      "execution_count": null,
      "outputs": []
    },
    {
      "cell_type": "markdown",
      "source": [
        "## Check the loaded data"
      ],
      "metadata": {
        "id": "SV50Rl9TGDNo"
      }
    },
    {
      "cell_type": "markdown",
      "source": [
        "We are going to **check the shape** of our dataset:"
      ],
      "metadata": {
        "id": "wqXs4MWnDgEV"
      }
    },
    {
      "cell_type": "code",
      "source": [
        "# Shape check\n",
        "print(\"train_time (train_time) shape:\", train_time.shape)\n",
        "print(\"train_labels (train_labels) shape:\", train_labels.shape)\n",
        "print(\"test_time (test_time) shape:\", test_time.shape)\n",
        "print(\"test_label (test_label) shape:\", test_label.shape)"
      ],
      "metadata": {
        "colab": {
          "base_uri": "https://localhost:8080/"
        },
        "id": "GFDdV3cTDpJ-",
        "outputId": "5f5ae396-00ee-456b-d6db-80f1f41a34de"
      },
      "execution_count": null,
      "outputs": [
        {
          "output_type": "stream",
          "name": "stdout",
          "text": [
            "train_time (train_time) shape: (3744, 7)\n",
            "train_labels (train_labels) shape: (375, 4)\n",
            "test_time (test_time) shape: (1250, 7)\n",
            "test_label (test_label) shape: (125, 4)\n"
          ]
        }
      ]
    },
    {
      "cell_type": "markdown",
      "source": [
        "The shape is consistant.\n",
        "\n",
        "**The head of the Datasets**. The first 5 rows:"
      ],
      "metadata": {
        "id": "Jd9DdG6vD5fk"
      }
    },
    {
      "cell_type": "code",
      "source": [
        "print(\"Training Time head:\")\n",
        "train_time.head()\n"
      ],
      "metadata": {
        "colab": {
          "base_uri": "https://localhost:8080/",
          "height": 224
        },
        "id": "9imJckD4DDvJ",
        "outputId": "52ec481a-beef-422a-b64b-3fedca0646dd"
      },
      "execution_count": null,
      "outputs": [
        {
          "output_type": "stream",
          "name": "stdout",
          "text": [
            "Training Time head:\n"
          ]
        },
        {
          "output_type": "execute_result",
          "data": {
            "text/plain": [
              "   Unnamed: 0      timestamp                 UTC time accuracy         x  \\\n",
              "0       20586  1565109930787  2019-08-06T16:45:30.787  unknown -0.006485   \n",
              "1       20587  1565109930887  2019-08-06T16:45:30.887  unknown -0.066467   \n",
              "2       20588  1565109930987  2019-08-06T16:45:30.987  unknown -0.043488   \n",
              "3       20589  1565109931087  2019-08-06T16:45:31.087  unknown -0.053802   \n",
              "4       20590  1565109931188  2019-08-06T16:45:31.188  unknown -0.054031   \n",
              "\n",
              "          y         z  \n",
              "0 -0.934860 -0.069046  \n",
              "1 -1.015442  0.089554  \n",
              "2 -1.021255  0.178467  \n",
              "3 -0.987701  0.068985  \n",
              "4 -1.003616  0.126450  "
            ],
            "text/html": [
              "\n",
              "  <div id=\"df-fb8a5d7d-a74f-45a4-89f8-1f7e3048b9a0\" class=\"colab-df-container\">\n",
              "    <div>\n",
              "<style scoped>\n",
              "    .dataframe tbody tr th:only-of-type {\n",
              "        vertical-align: middle;\n",
              "    }\n",
              "\n",
              "    .dataframe tbody tr th {\n",
              "        vertical-align: top;\n",
              "    }\n",
              "\n",
              "    .dataframe thead th {\n",
              "        text-align: right;\n",
              "    }\n",
              "</style>\n",
              "<table border=\"1\" class=\"dataframe\">\n",
              "  <thead>\n",
              "    <tr style=\"text-align: right;\">\n",
              "      <th></th>\n",
              "      <th>Unnamed: 0</th>\n",
              "      <th>timestamp</th>\n",
              "      <th>UTC time</th>\n",
              "      <th>accuracy</th>\n",
              "      <th>x</th>\n",
              "      <th>y</th>\n",
              "      <th>z</th>\n",
              "    </tr>\n",
              "  </thead>\n",
              "  <tbody>\n",
              "    <tr>\n",
              "      <th>0</th>\n",
              "      <td>20586</td>\n",
              "      <td>1565109930787</td>\n",
              "      <td>2019-08-06T16:45:30.787</td>\n",
              "      <td>unknown</td>\n",
              "      <td>-0.006485</td>\n",
              "      <td>-0.934860</td>\n",
              "      <td>-0.069046</td>\n",
              "    </tr>\n",
              "    <tr>\n",
              "      <th>1</th>\n",
              "      <td>20587</td>\n",
              "      <td>1565109930887</td>\n",
              "      <td>2019-08-06T16:45:30.887</td>\n",
              "      <td>unknown</td>\n",
              "      <td>-0.066467</td>\n",
              "      <td>-1.015442</td>\n",
              "      <td>0.089554</td>\n",
              "    </tr>\n",
              "    <tr>\n",
              "      <th>2</th>\n",
              "      <td>20588</td>\n",
              "      <td>1565109930987</td>\n",
              "      <td>2019-08-06T16:45:30.987</td>\n",
              "      <td>unknown</td>\n",
              "      <td>-0.043488</td>\n",
              "      <td>-1.021255</td>\n",
              "      <td>0.178467</td>\n",
              "    </tr>\n",
              "    <tr>\n",
              "      <th>3</th>\n",
              "      <td>20589</td>\n",
              "      <td>1565109931087</td>\n",
              "      <td>2019-08-06T16:45:31.087</td>\n",
              "      <td>unknown</td>\n",
              "      <td>-0.053802</td>\n",
              "      <td>-0.987701</td>\n",
              "      <td>0.068985</td>\n",
              "    </tr>\n",
              "    <tr>\n",
              "      <th>4</th>\n",
              "      <td>20590</td>\n",
              "      <td>1565109931188</td>\n",
              "      <td>2019-08-06T16:45:31.188</td>\n",
              "      <td>unknown</td>\n",
              "      <td>-0.054031</td>\n",
              "      <td>-1.003616</td>\n",
              "      <td>0.126450</td>\n",
              "    </tr>\n",
              "  </tbody>\n",
              "</table>\n",
              "</div>\n",
              "    <div class=\"colab-df-buttons\">\n",
              "\n",
              "  <div class=\"colab-df-container\">\n",
              "    <button class=\"colab-df-convert\" onclick=\"convertToInteractive('df-fb8a5d7d-a74f-45a4-89f8-1f7e3048b9a0')\"\n",
              "            title=\"Convert this dataframe to an interactive table.\"\n",
              "            style=\"display:none;\">\n",
              "\n",
              "  <svg xmlns=\"http://www.w3.org/2000/svg\" height=\"24px\" viewBox=\"0 -960 960 960\">\n",
              "    <path d=\"M120-120v-720h720v720H120Zm60-500h600v-160H180v160Zm220 220h160v-160H400v160Zm0 220h160v-160H400v160ZM180-400h160v-160H180v160Zm440 0h160v-160H620v160ZM180-180h160v-160H180v160Zm440 0h160v-160H620v160Z\"/>\n",
              "  </svg>\n",
              "    </button>\n",
              "\n",
              "  <style>\n",
              "    .colab-df-container {\n",
              "      display:flex;\n",
              "      gap: 12px;\n",
              "    }\n",
              "\n",
              "    .colab-df-convert {\n",
              "      background-color: #E8F0FE;\n",
              "      border: none;\n",
              "      border-radius: 50%;\n",
              "      cursor: pointer;\n",
              "      display: none;\n",
              "      fill: #1967D2;\n",
              "      height: 32px;\n",
              "      padding: 0 0 0 0;\n",
              "      width: 32px;\n",
              "    }\n",
              "\n",
              "    .colab-df-convert:hover {\n",
              "      background-color: #E2EBFA;\n",
              "      box-shadow: 0px 1px 2px rgba(60, 64, 67, 0.3), 0px 1px 3px 1px rgba(60, 64, 67, 0.15);\n",
              "      fill: #174EA6;\n",
              "    }\n",
              "\n",
              "    .colab-df-buttons div {\n",
              "      margin-bottom: 4px;\n",
              "    }\n",
              "\n",
              "    [theme=dark] .colab-df-convert {\n",
              "      background-color: #3B4455;\n",
              "      fill: #D2E3FC;\n",
              "    }\n",
              "\n",
              "    [theme=dark] .colab-df-convert:hover {\n",
              "      background-color: #434B5C;\n",
              "      box-shadow: 0px 1px 3px 1px rgba(0, 0, 0, 0.15);\n",
              "      filter: drop-shadow(0px 1px 2px rgba(0, 0, 0, 0.3));\n",
              "      fill: #FFFFFF;\n",
              "    }\n",
              "  </style>\n",
              "\n",
              "    <script>\n",
              "      const buttonEl =\n",
              "        document.querySelector('#df-fb8a5d7d-a74f-45a4-89f8-1f7e3048b9a0 button.colab-df-convert');\n",
              "      buttonEl.style.display =\n",
              "        google.colab.kernel.accessAllowed ? 'block' : 'none';\n",
              "\n",
              "      async function convertToInteractive(key) {\n",
              "        const element = document.querySelector('#df-fb8a5d7d-a74f-45a4-89f8-1f7e3048b9a0');\n",
              "        const dataTable =\n",
              "          await google.colab.kernel.invokeFunction('convertToInteractive',\n",
              "                                                    [key], {});\n",
              "        if (!dataTable) return;\n",
              "\n",
              "        const docLinkHtml = 'Like what you see? Visit the ' +\n",
              "          '<a target=\"_blank\" href=https://colab.research.google.com/notebooks/data_table.ipynb>data table notebook</a>'\n",
              "          + ' to learn more about interactive tables.';\n",
              "        element.innerHTML = '';\n",
              "        dataTable['output_type'] = 'display_data';\n",
              "        await google.colab.output.renderOutput(dataTable, element);\n",
              "        const docLink = document.createElement('div');\n",
              "        docLink.innerHTML = docLinkHtml;\n",
              "        element.appendChild(docLink);\n",
              "      }\n",
              "    </script>\n",
              "  </div>\n",
              "\n",
              "\n",
              "<div id=\"df-835e7812-41fb-418a-bb25-21179a2aba9f\">\n",
              "  <button class=\"colab-df-quickchart\" onclick=\"quickchart('df-835e7812-41fb-418a-bb25-21179a2aba9f')\"\n",
              "            title=\"Suggest charts\"\n",
              "            style=\"display:none;\">\n",
              "\n",
              "<svg xmlns=\"http://www.w3.org/2000/svg\" height=\"24px\"viewBox=\"0 0 24 24\"\n",
              "     width=\"24px\">\n",
              "    <g>\n",
              "        <path d=\"M19 3H5c-1.1 0-2 .9-2 2v14c0 1.1.9 2 2 2h14c1.1 0 2-.9 2-2V5c0-1.1-.9-2-2-2zM9 17H7v-7h2v7zm4 0h-2V7h2v10zm4 0h-2v-4h2v4z\"/>\n",
              "    </g>\n",
              "</svg>\n",
              "  </button>\n",
              "\n",
              "<style>\n",
              "  .colab-df-quickchart {\n",
              "      --bg-color: #E8F0FE;\n",
              "      --fill-color: #1967D2;\n",
              "      --hover-bg-color: #E2EBFA;\n",
              "      --hover-fill-color: #174EA6;\n",
              "      --disabled-fill-color: #AAA;\n",
              "      --disabled-bg-color: #DDD;\n",
              "  }\n",
              "\n",
              "  [theme=dark] .colab-df-quickchart {\n",
              "      --bg-color: #3B4455;\n",
              "      --fill-color: #D2E3FC;\n",
              "      --hover-bg-color: #434B5C;\n",
              "      --hover-fill-color: #FFFFFF;\n",
              "      --disabled-bg-color: #3B4455;\n",
              "      --disabled-fill-color: #666;\n",
              "  }\n",
              "\n",
              "  .colab-df-quickchart {\n",
              "    background-color: var(--bg-color);\n",
              "    border: none;\n",
              "    border-radius: 50%;\n",
              "    cursor: pointer;\n",
              "    display: none;\n",
              "    fill: var(--fill-color);\n",
              "    height: 32px;\n",
              "    padding: 0;\n",
              "    width: 32px;\n",
              "  }\n",
              "\n",
              "  .colab-df-quickchart:hover {\n",
              "    background-color: var(--hover-bg-color);\n",
              "    box-shadow: 0 1px 2px rgba(60, 64, 67, 0.3), 0 1px 3px 1px rgba(60, 64, 67, 0.15);\n",
              "    fill: var(--button-hover-fill-color);\n",
              "  }\n",
              "\n",
              "  .colab-df-quickchart-complete:disabled,\n",
              "  .colab-df-quickchart-complete:disabled:hover {\n",
              "    background-color: var(--disabled-bg-color);\n",
              "    fill: var(--disabled-fill-color);\n",
              "    box-shadow: none;\n",
              "  }\n",
              "\n",
              "  .colab-df-spinner {\n",
              "    border: 2px solid var(--fill-color);\n",
              "    border-color: transparent;\n",
              "    border-bottom-color: var(--fill-color);\n",
              "    animation:\n",
              "      spin 1s steps(1) infinite;\n",
              "  }\n",
              "\n",
              "  @keyframes spin {\n",
              "    0% {\n",
              "      border-color: transparent;\n",
              "      border-bottom-color: var(--fill-color);\n",
              "      border-left-color: var(--fill-color);\n",
              "    }\n",
              "    20% {\n",
              "      border-color: transparent;\n",
              "      border-left-color: var(--fill-color);\n",
              "      border-top-color: var(--fill-color);\n",
              "    }\n",
              "    30% {\n",
              "      border-color: transparent;\n",
              "      border-left-color: var(--fill-color);\n",
              "      border-top-color: var(--fill-color);\n",
              "      border-right-color: var(--fill-color);\n",
              "    }\n",
              "    40% {\n",
              "      border-color: transparent;\n",
              "      border-right-color: var(--fill-color);\n",
              "      border-top-color: var(--fill-color);\n",
              "    }\n",
              "    60% {\n",
              "      border-color: transparent;\n",
              "      border-right-color: var(--fill-color);\n",
              "    }\n",
              "    80% {\n",
              "      border-color: transparent;\n",
              "      border-right-color: var(--fill-color);\n",
              "      border-bottom-color: var(--fill-color);\n",
              "    }\n",
              "    90% {\n",
              "      border-color: transparent;\n",
              "      border-bottom-color: var(--fill-color);\n",
              "    }\n",
              "  }\n",
              "</style>\n",
              "\n",
              "  <script>\n",
              "    async function quickchart(key) {\n",
              "      const quickchartButtonEl =\n",
              "        document.querySelector('#' + key + ' button');\n",
              "      quickchartButtonEl.disabled = true;  // To prevent multiple clicks.\n",
              "      quickchartButtonEl.classList.add('colab-df-spinner');\n",
              "      try {\n",
              "        const charts = await google.colab.kernel.invokeFunction(\n",
              "            'suggestCharts', [key], {});\n",
              "      } catch (error) {\n",
              "        console.error('Error during call to suggestCharts:', error);\n",
              "      }\n",
              "      quickchartButtonEl.classList.remove('colab-df-spinner');\n",
              "      quickchartButtonEl.classList.add('colab-df-quickchart-complete');\n",
              "    }\n",
              "    (() => {\n",
              "      let quickchartButtonEl =\n",
              "        document.querySelector('#df-835e7812-41fb-418a-bb25-21179a2aba9f button');\n",
              "      quickchartButtonEl.style.display =\n",
              "        google.colab.kernel.accessAllowed ? 'block' : 'none';\n",
              "    })();\n",
              "  </script>\n",
              "</div>\n",
              "    </div>\n",
              "  </div>\n"
            ],
            "application/vnd.google.colaboratory.intrinsic+json": {
              "type": "dataframe",
              "variable_name": "train_time",
              "summary": "{\n  \"name\": \"train_time\",\n  \"rows\": 3744,\n  \"fields\": [\n    {\n      \"column\": \"Unnamed: 0\",\n      \"properties\": {\n        \"dtype\": \"number\",\n        \"std\": 1080,\n        \"min\": 20586,\n        \"max\": 24329,\n        \"samples\": [\n          23985,\n          21700,\n          20937\n        ],\n        \"num_unique_values\": 3744,\n        \"semantic_type\": \"\",\n        \"description\": \"\"\n      }\n    },\n    {\n      \"column\": \"timestamp\",\n      \"properties\": {\n        \"dtype\": \"number\",\n        \"std\": 108376,\n        \"min\": 1565109930787,\n        \"max\": 1565110306039,\n        \"samples\": [\n          1565110271560,\n          1565110042448,\n          1565109965967\n        ],\n        \"num_unique_values\": 3744,\n        \"semantic_type\": \"\",\n        \"description\": \"\"\n      }\n    },\n    {\n      \"column\": \"UTC time\",\n      \"properties\": {\n        \"dtype\": \"object\",\n        \"min\": \"2019-08-06T16:45:30.787\",\n        \"max\": \"2019-08-06T16:51:46.039\",\n        \"samples\": [\n          \"2019-08-06T16:51:11.560\",\n          \"2019-08-06T16:47:22.448\",\n          \"2019-08-06T16:46:05.967\"\n        ],\n        \"num_unique_values\": 3744,\n        \"semantic_type\": \"\",\n        \"description\": \"\"\n      }\n    },\n    {\n      \"column\": \"accuracy\",\n      \"properties\": {\n        \"dtype\": \"category\",\n        \"samples\": [\n          \"unknown\"\n        ],\n        \"num_unique_values\": 1,\n        \"semantic_type\": \"\",\n        \"description\": \"\"\n      }\n    },\n    {\n      \"column\": \"x\",\n      \"properties\": {\n        \"dtype\": \"number\",\n        \"std\": 0.39569772777390594,\n        \"min\": -1.0711517333984375,\n        \"max\": 2.5030975341796875,\n        \"samples\": [\n          -0.5780029296875\n        ],\n        \"num_unique_values\": 3639,\n        \"semantic_type\": \"\",\n        \"description\": \"\"\n      }\n    },\n    {\n      \"column\": \"y\",\n      \"properties\": {\n        \"dtype\": \"number\",\n        \"std\": 0.45117847148297946,\n        \"min\": -3.3913116455078125,\n        \"max\": 0.321746826171875,\n        \"samples\": [\n          -0.9203643798828124\n        ],\n        \"num_unique_values\": 3646,\n        \"semantic_type\": \"\",\n        \"description\": \"\"\n      }\n    },\n    {\n      \"column\": \"z\",\n      \"properties\": {\n        \"dtype\": \"number\",\n        \"std\": 0.35081747621176584,\n        \"min\": -1.4153900146484375,\n        \"max\": 2.5871734619140625,\n        \"samples\": [\n          -1.24884033203125\n        ],\n        \"num_unique_values\": 3619,\n        \"semantic_type\": \"\",\n        \"description\": \"\"\n      }\n    }\n  ]\n}"
            }
          },
          "metadata": {},
          "execution_count": 103
        }
      ]
    },
    {
      "cell_type": "code",
      "source": [
        "print(\"Training Labels head:\")\n",
        "train_labels.head()"
      ],
      "metadata": {
        "colab": {
          "base_uri": "https://localhost:8080/",
          "height": 224
        },
        "id": "qiLnO1GtFYcN",
        "outputId": "e580c601-f6a7-4855-ecfd-66e4d32f3a4c"
      },
      "execution_count": null,
      "outputs": [
        {
          "output_type": "stream",
          "name": "stdout",
          "text": [
            "Training Labels head:\n"
          ]
        },
        {
          "output_type": "execute_result",
          "data": {
            "text/plain": [
              "   Unnamed: 0      timestamp                 UTC time  label\n",
              "0       20589  1565109931087  2019-08-06T16:45:31.087      1\n",
              "1       20599  1565109932090  2019-08-06T16:45:32.090      1\n",
              "2       20609  1565109933092  2019-08-06T16:45:33.092      1\n",
              "3       20619  1565109934094  2019-08-06T16:45:34.094      1\n",
              "4       20629  1565109935097  2019-08-06T16:45:35.097      1"
            ],
            "text/html": [
              "\n",
              "  <div id=\"df-6c8483d6-8258-4839-ad0f-ff690ceb05e6\" class=\"colab-df-container\">\n",
              "    <div>\n",
              "<style scoped>\n",
              "    .dataframe tbody tr th:only-of-type {\n",
              "        vertical-align: middle;\n",
              "    }\n",
              "\n",
              "    .dataframe tbody tr th {\n",
              "        vertical-align: top;\n",
              "    }\n",
              "\n",
              "    .dataframe thead th {\n",
              "        text-align: right;\n",
              "    }\n",
              "</style>\n",
              "<table border=\"1\" class=\"dataframe\">\n",
              "  <thead>\n",
              "    <tr style=\"text-align: right;\">\n",
              "      <th></th>\n",
              "      <th>Unnamed: 0</th>\n",
              "      <th>timestamp</th>\n",
              "      <th>UTC time</th>\n",
              "      <th>label</th>\n",
              "    </tr>\n",
              "  </thead>\n",
              "  <tbody>\n",
              "    <tr>\n",
              "      <th>0</th>\n",
              "      <td>20589</td>\n",
              "      <td>1565109931087</td>\n",
              "      <td>2019-08-06T16:45:31.087</td>\n",
              "      <td>1</td>\n",
              "    </tr>\n",
              "    <tr>\n",
              "      <th>1</th>\n",
              "      <td>20599</td>\n",
              "      <td>1565109932090</td>\n",
              "      <td>2019-08-06T16:45:32.090</td>\n",
              "      <td>1</td>\n",
              "    </tr>\n",
              "    <tr>\n",
              "      <th>2</th>\n",
              "      <td>20609</td>\n",
              "      <td>1565109933092</td>\n",
              "      <td>2019-08-06T16:45:33.092</td>\n",
              "      <td>1</td>\n",
              "    </tr>\n",
              "    <tr>\n",
              "      <th>3</th>\n",
              "      <td>20619</td>\n",
              "      <td>1565109934094</td>\n",
              "      <td>2019-08-06T16:45:34.094</td>\n",
              "      <td>1</td>\n",
              "    </tr>\n",
              "    <tr>\n",
              "      <th>4</th>\n",
              "      <td>20629</td>\n",
              "      <td>1565109935097</td>\n",
              "      <td>2019-08-06T16:45:35.097</td>\n",
              "      <td>1</td>\n",
              "    </tr>\n",
              "  </tbody>\n",
              "</table>\n",
              "</div>\n",
              "    <div class=\"colab-df-buttons\">\n",
              "\n",
              "  <div class=\"colab-df-container\">\n",
              "    <button class=\"colab-df-convert\" onclick=\"convertToInteractive('df-6c8483d6-8258-4839-ad0f-ff690ceb05e6')\"\n",
              "            title=\"Convert this dataframe to an interactive table.\"\n",
              "            style=\"display:none;\">\n",
              "\n",
              "  <svg xmlns=\"http://www.w3.org/2000/svg\" height=\"24px\" viewBox=\"0 -960 960 960\">\n",
              "    <path d=\"M120-120v-720h720v720H120Zm60-500h600v-160H180v160Zm220 220h160v-160H400v160Zm0 220h160v-160H400v160ZM180-400h160v-160H180v160Zm440 0h160v-160H620v160ZM180-180h160v-160H180v160Zm440 0h160v-160H620v160Z\"/>\n",
              "  </svg>\n",
              "    </button>\n",
              "\n",
              "  <style>\n",
              "    .colab-df-container {\n",
              "      display:flex;\n",
              "      gap: 12px;\n",
              "    }\n",
              "\n",
              "    .colab-df-convert {\n",
              "      background-color: #E8F0FE;\n",
              "      border: none;\n",
              "      border-radius: 50%;\n",
              "      cursor: pointer;\n",
              "      display: none;\n",
              "      fill: #1967D2;\n",
              "      height: 32px;\n",
              "      padding: 0 0 0 0;\n",
              "      width: 32px;\n",
              "    }\n",
              "\n",
              "    .colab-df-convert:hover {\n",
              "      background-color: #E2EBFA;\n",
              "      box-shadow: 0px 1px 2px rgba(60, 64, 67, 0.3), 0px 1px 3px 1px rgba(60, 64, 67, 0.15);\n",
              "      fill: #174EA6;\n",
              "    }\n",
              "\n",
              "    .colab-df-buttons div {\n",
              "      margin-bottom: 4px;\n",
              "    }\n",
              "\n",
              "    [theme=dark] .colab-df-convert {\n",
              "      background-color: #3B4455;\n",
              "      fill: #D2E3FC;\n",
              "    }\n",
              "\n",
              "    [theme=dark] .colab-df-convert:hover {\n",
              "      background-color: #434B5C;\n",
              "      box-shadow: 0px 1px 3px 1px rgba(0, 0, 0, 0.15);\n",
              "      filter: drop-shadow(0px 1px 2px rgba(0, 0, 0, 0.3));\n",
              "      fill: #FFFFFF;\n",
              "    }\n",
              "  </style>\n",
              "\n",
              "    <script>\n",
              "      const buttonEl =\n",
              "        document.querySelector('#df-6c8483d6-8258-4839-ad0f-ff690ceb05e6 button.colab-df-convert');\n",
              "      buttonEl.style.display =\n",
              "        google.colab.kernel.accessAllowed ? 'block' : 'none';\n",
              "\n",
              "      async function convertToInteractive(key) {\n",
              "        const element = document.querySelector('#df-6c8483d6-8258-4839-ad0f-ff690ceb05e6');\n",
              "        const dataTable =\n",
              "          await google.colab.kernel.invokeFunction('convertToInteractive',\n",
              "                                                    [key], {});\n",
              "        if (!dataTable) return;\n",
              "\n",
              "        const docLinkHtml = 'Like what you see? Visit the ' +\n",
              "          '<a target=\"_blank\" href=https://colab.research.google.com/notebooks/data_table.ipynb>data table notebook</a>'\n",
              "          + ' to learn more about interactive tables.';\n",
              "        element.innerHTML = '';\n",
              "        dataTable['output_type'] = 'display_data';\n",
              "        await google.colab.output.renderOutput(dataTable, element);\n",
              "        const docLink = document.createElement('div');\n",
              "        docLink.innerHTML = docLinkHtml;\n",
              "        element.appendChild(docLink);\n",
              "      }\n",
              "    </script>\n",
              "  </div>\n",
              "\n",
              "\n",
              "<div id=\"df-18884a56-e144-4e4d-83fc-41f9f1545c1c\">\n",
              "  <button class=\"colab-df-quickchart\" onclick=\"quickchart('df-18884a56-e144-4e4d-83fc-41f9f1545c1c')\"\n",
              "            title=\"Suggest charts\"\n",
              "            style=\"display:none;\">\n",
              "\n",
              "<svg xmlns=\"http://www.w3.org/2000/svg\" height=\"24px\"viewBox=\"0 0 24 24\"\n",
              "     width=\"24px\">\n",
              "    <g>\n",
              "        <path d=\"M19 3H5c-1.1 0-2 .9-2 2v14c0 1.1.9 2 2 2h14c1.1 0 2-.9 2-2V5c0-1.1-.9-2-2-2zM9 17H7v-7h2v7zm4 0h-2V7h2v10zm4 0h-2v-4h2v4z\"/>\n",
              "    </g>\n",
              "</svg>\n",
              "  </button>\n",
              "\n",
              "<style>\n",
              "  .colab-df-quickchart {\n",
              "      --bg-color: #E8F0FE;\n",
              "      --fill-color: #1967D2;\n",
              "      --hover-bg-color: #E2EBFA;\n",
              "      --hover-fill-color: #174EA6;\n",
              "      --disabled-fill-color: #AAA;\n",
              "      --disabled-bg-color: #DDD;\n",
              "  }\n",
              "\n",
              "  [theme=dark] .colab-df-quickchart {\n",
              "      --bg-color: #3B4455;\n",
              "      --fill-color: #D2E3FC;\n",
              "      --hover-bg-color: #434B5C;\n",
              "      --hover-fill-color: #FFFFFF;\n",
              "      --disabled-bg-color: #3B4455;\n",
              "      --disabled-fill-color: #666;\n",
              "  }\n",
              "\n",
              "  .colab-df-quickchart {\n",
              "    background-color: var(--bg-color);\n",
              "    border: none;\n",
              "    border-radius: 50%;\n",
              "    cursor: pointer;\n",
              "    display: none;\n",
              "    fill: var(--fill-color);\n",
              "    height: 32px;\n",
              "    padding: 0;\n",
              "    width: 32px;\n",
              "  }\n",
              "\n",
              "  .colab-df-quickchart:hover {\n",
              "    background-color: var(--hover-bg-color);\n",
              "    box-shadow: 0 1px 2px rgba(60, 64, 67, 0.3), 0 1px 3px 1px rgba(60, 64, 67, 0.15);\n",
              "    fill: var(--button-hover-fill-color);\n",
              "  }\n",
              "\n",
              "  .colab-df-quickchart-complete:disabled,\n",
              "  .colab-df-quickchart-complete:disabled:hover {\n",
              "    background-color: var(--disabled-bg-color);\n",
              "    fill: var(--disabled-fill-color);\n",
              "    box-shadow: none;\n",
              "  }\n",
              "\n",
              "  .colab-df-spinner {\n",
              "    border: 2px solid var(--fill-color);\n",
              "    border-color: transparent;\n",
              "    border-bottom-color: var(--fill-color);\n",
              "    animation:\n",
              "      spin 1s steps(1) infinite;\n",
              "  }\n",
              "\n",
              "  @keyframes spin {\n",
              "    0% {\n",
              "      border-color: transparent;\n",
              "      border-bottom-color: var(--fill-color);\n",
              "      border-left-color: var(--fill-color);\n",
              "    }\n",
              "    20% {\n",
              "      border-color: transparent;\n",
              "      border-left-color: var(--fill-color);\n",
              "      border-top-color: var(--fill-color);\n",
              "    }\n",
              "    30% {\n",
              "      border-color: transparent;\n",
              "      border-left-color: var(--fill-color);\n",
              "      border-top-color: var(--fill-color);\n",
              "      border-right-color: var(--fill-color);\n",
              "    }\n",
              "    40% {\n",
              "      border-color: transparent;\n",
              "      border-right-color: var(--fill-color);\n",
              "      border-top-color: var(--fill-color);\n",
              "    }\n",
              "    60% {\n",
              "      border-color: transparent;\n",
              "      border-right-color: var(--fill-color);\n",
              "    }\n",
              "    80% {\n",
              "      border-color: transparent;\n",
              "      border-right-color: var(--fill-color);\n",
              "      border-bottom-color: var(--fill-color);\n",
              "    }\n",
              "    90% {\n",
              "      border-color: transparent;\n",
              "      border-bottom-color: var(--fill-color);\n",
              "    }\n",
              "  }\n",
              "</style>\n",
              "\n",
              "  <script>\n",
              "    async function quickchart(key) {\n",
              "      const quickchartButtonEl =\n",
              "        document.querySelector('#' + key + ' button');\n",
              "      quickchartButtonEl.disabled = true;  // To prevent multiple clicks.\n",
              "      quickchartButtonEl.classList.add('colab-df-spinner');\n",
              "      try {\n",
              "        const charts = await google.colab.kernel.invokeFunction(\n",
              "            'suggestCharts', [key], {});\n",
              "      } catch (error) {\n",
              "        console.error('Error during call to suggestCharts:', error);\n",
              "      }\n",
              "      quickchartButtonEl.classList.remove('colab-df-spinner');\n",
              "      quickchartButtonEl.classList.add('colab-df-quickchart-complete');\n",
              "    }\n",
              "    (() => {\n",
              "      let quickchartButtonEl =\n",
              "        document.querySelector('#df-18884a56-e144-4e4d-83fc-41f9f1545c1c button');\n",
              "      quickchartButtonEl.style.display =\n",
              "        google.colab.kernel.accessAllowed ? 'block' : 'none';\n",
              "    })();\n",
              "  </script>\n",
              "</div>\n",
              "    </div>\n",
              "  </div>\n"
            ],
            "application/vnd.google.colaboratory.intrinsic+json": {
              "type": "dataframe",
              "variable_name": "train_labels",
              "summary": "{\n  \"name\": \"train_labels\",\n  \"rows\": 375,\n  \"fields\": [\n    {\n      \"column\": \"Unnamed: 0\",\n      \"properties\": {\n        \"dtype\": \"number\",\n        \"std\": 1083,\n        \"min\": 20589,\n        \"max\": 24329,\n        \"samples\": [\n          22259,\n          20919,\n          20739\n        ],\n        \"num_unique_values\": 375,\n        \"semantic_type\": \"\",\n        \"description\": \"\"\n      }\n    },\n    {\n      \"column\": \"timestamp\",\n      \"properties\": {\n        \"dtype\": \"number\",\n        \"std\": 108680,\n        \"min\": 1565109931087,\n        \"max\": 1565110306039,\n        \"samples\": [\n          1565110098563,\n          1565109964163,\n          1565109946122\n        ],\n        \"num_unique_values\": 375,\n        \"semantic_type\": \"\",\n        \"description\": \"\"\n      }\n    },\n    {\n      \"column\": \"UTC time\",\n      \"properties\": {\n        \"dtype\": \"object\",\n        \"min\": \"2019-08-06T16:45:31.087\",\n        \"max\": \"2019-08-06T16:51:46.039\",\n        \"samples\": [\n          \"2019-08-06T16:48:18.563\",\n          \"2019-08-06T16:46:04.163\",\n          \"2019-08-06T16:45:46.122\"\n        ],\n        \"num_unique_values\": 375,\n        \"semantic_type\": \"\",\n        \"description\": \"\"\n      }\n    },\n    {\n      \"column\": \"label\",\n      \"properties\": {\n        \"dtype\": \"number\",\n        \"std\": 0,\n        \"min\": 1,\n        \"max\": 4,\n        \"samples\": [\n          2,\n          3,\n          1\n        ],\n        \"num_unique_values\": 4,\n        \"semantic_type\": \"\",\n        \"description\": \"\"\n      }\n    }\n  ]\n}"
            }
          },
          "metadata": {},
          "execution_count": 104
        }
      ]
    },
    {
      "cell_type": "code",
      "source": [
        "print(\"Test Time head:\")\n",
        "test_time.head()"
      ],
      "metadata": {
        "colab": {
          "base_uri": "https://localhost:8080/",
          "height": 224
        },
        "id": "ul1bYASaFo5E",
        "outputId": "73e5e630-d041-419f-aa46-fd34dd0cf2c6"
      },
      "execution_count": null,
      "outputs": [
        {
          "output_type": "stream",
          "name": "stdout",
          "text": [
            "Test Time head:\n"
          ]
        },
        {
          "output_type": "execute_result",
          "data": {
            "text/plain": [
              "   Unnamed: 0      timestamp                 UTC time accuracy         x  \\\n",
              "0       24330  1565110306139  2019-08-06T16:51:46.139  unknown  0.034286   \n",
              "1       24331  1565110306239  2019-08-06T16:51:46.239  unknown  0.409164   \n",
              "2       24332  1565110306340  2019-08-06T16:51:46.340  unknown -0.234390   \n",
              "3       24333  1565110306440  2019-08-06T16:51:46.440  unknown  0.251114   \n",
              "4       24334  1565110306540  2019-08-06T16:51:46.540  unknown  0.109924   \n",
              "\n",
              "          y         z  \n",
              "0 -1.504456  0.157623  \n",
              "1 -1.038544  0.030975  \n",
              "2 -0.984558  0.124771  \n",
              "3 -0.787003  0.054810  \n",
              "4 -0.169510  0.235550  "
            ],
            "text/html": [
              "\n",
              "  <div id=\"df-bc178213-a182-4826-bbac-5d7ae18b91c6\" class=\"colab-df-container\">\n",
              "    <div>\n",
              "<style scoped>\n",
              "    .dataframe tbody tr th:only-of-type {\n",
              "        vertical-align: middle;\n",
              "    }\n",
              "\n",
              "    .dataframe tbody tr th {\n",
              "        vertical-align: top;\n",
              "    }\n",
              "\n",
              "    .dataframe thead th {\n",
              "        text-align: right;\n",
              "    }\n",
              "</style>\n",
              "<table border=\"1\" class=\"dataframe\">\n",
              "  <thead>\n",
              "    <tr style=\"text-align: right;\">\n",
              "      <th></th>\n",
              "      <th>Unnamed: 0</th>\n",
              "      <th>timestamp</th>\n",
              "      <th>UTC time</th>\n",
              "      <th>accuracy</th>\n",
              "      <th>x</th>\n",
              "      <th>y</th>\n",
              "      <th>z</th>\n",
              "    </tr>\n",
              "  </thead>\n",
              "  <tbody>\n",
              "    <tr>\n",
              "      <th>0</th>\n",
              "      <td>24330</td>\n",
              "      <td>1565110306139</td>\n",
              "      <td>2019-08-06T16:51:46.139</td>\n",
              "      <td>unknown</td>\n",
              "      <td>0.034286</td>\n",
              "      <td>-1.504456</td>\n",
              "      <td>0.157623</td>\n",
              "    </tr>\n",
              "    <tr>\n",
              "      <th>1</th>\n",
              "      <td>24331</td>\n",
              "      <td>1565110306239</td>\n",
              "      <td>2019-08-06T16:51:46.239</td>\n",
              "      <td>unknown</td>\n",
              "      <td>0.409164</td>\n",
              "      <td>-1.038544</td>\n",
              "      <td>0.030975</td>\n",
              "    </tr>\n",
              "    <tr>\n",
              "      <th>2</th>\n",
              "      <td>24332</td>\n",
              "      <td>1565110306340</td>\n",
              "      <td>2019-08-06T16:51:46.340</td>\n",
              "      <td>unknown</td>\n",
              "      <td>-0.234390</td>\n",
              "      <td>-0.984558</td>\n",
              "      <td>0.124771</td>\n",
              "    </tr>\n",
              "    <tr>\n",
              "      <th>3</th>\n",
              "      <td>24333</td>\n",
              "      <td>1565110306440</td>\n",
              "      <td>2019-08-06T16:51:46.440</td>\n",
              "      <td>unknown</td>\n",
              "      <td>0.251114</td>\n",
              "      <td>-0.787003</td>\n",
              "      <td>0.054810</td>\n",
              "    </tr>\n",
              "    <tr>\n",
              "      <th>4</th>\n",
              "      <td>24334</td>\n",
              "      <td>1565110306540</td>\n",
              "      <td>2019-08-06T16:51:46.540</td>\n",
              "      <td>unknown</td>\n",
              "      <td>0.109924</td>\n",
              "      <td>-0.169510</td>\n",
              "      <td>0.235550</td>\n",
              "    </tr>\n",
              "  </tbody>\n",
              "</table>\n",
              "</div>\n",
              "    <div class=\"colab-df-buttons\">\n",
              "\n",
              "  <div class=\"colab-df-container\">\n",
              "    <button class=\"colab-df-convert\" onclick=\"convertToInteractive('df-bc178213-a182-4826-bbac-5d7ae18b91c6')\"\n",
              "            title=\"Convert this dataframe to an interactive table.\"\n",
              "            style=\"display:none;\">\n",
              "\n",
              "  <svg xmlns=\"http://www.w3.org/2000/svg\" height=\"24px\" viewBox=\"0 -960 960 960\">\n",
              "    <path d=\"M120-120v-720h720v720H120Zm60-500h600v-160H180v160Zm220 220h160v-160H400v160Zm0 220h160v-160H400v160ZM180-400h160v-160H180v160Zm440 0h160v-160H620v160ZM180-180h160v-160H180v160Zm440 0h160v-160H620v160Z\"/>\n",
              "  </svg>\n",
              "    </button>\n",
              "\n",
              "  <style>\n",
              "    .colab-df-container {\n",
              "      display:flex;\n",
              "      gap: 12px;\n",
              "    }\n",
              "\n",
              "    .colab-df-convert {\n",
              "      background-color: #E8F0FE;\n",
              "      border: none;\n",
              "      border-radius: 50%;\n",
              "      cursor: pointer;\n",
              "      display: none;\n",
              "      fill: #1967D2;\n",
              "      height: 32px;\n",
              "      padding: 0 0 0 0;\n",
              "      width: 32px;\n",
              "    }\n",
              "\n",
              "    .colab-df-convert:hover {\n",
              "      background-color: #E2EBFA;\n",
              "      box-shadow: 0px 1px 2px rgba(60, 64, 67, 0.3), 0px 1px 3px 1px rgba(60, 64, 67, 0.15);\n",
              "      fill: #174EA6;\n",
              "    }\n",
              "\n",
              "    .colab-df-buttons div {\n",
              "      margin-bottom: 4px;\n",
              "    }\n",
              "\n",
              "    [theme=dark] .colab-df-convert {\n",
              "      background-color: #3B4455;\n",
              "      fill: #D2E3FC;\n",
              "    }\n",
              "\n",
              "    [theme=dark] .colab-df-convert:hover {\n",
              "      background-color: #434B5C;\n",
              "      box-shadow: 0px 1px 3px 1px rgba(0, 0, 0, 0.15);\n",
              "      filter: drop-shadow(0px 1px 2px rgba(0, 0, 0, 0.3));\n",
              "      fill: #FFFFFF;\n",
              "    }\n",
              "  </style>\n",
              "\n",
              "    <script>\n",
              "      const buttonEl =\n",
              "        document.querySelector('#df-bc178213-a182-4826-bbac-5d7ae18b91c6 button.colab-df-convert');\n",
              "      buttonEl.style.display =\n",
              "        google.colab.kernel.accessAllowed ? 'block' : 'none';\n",
              "\n",
              "      async function convertToInteractive(key) {\n",
              "        const element = document.querySelector('#df-bc178213-a182-4826-bbac-5d7ae18b91c6');\n",
              "        const dataTable =\n",
              "          await google.colab.kernel.invokeFunction('convertToInteractive',\n",
              "                                                    [key], {});\n",
              "        if (!dataTable) return;\n",
              "\n",
              "        const docLinkHtml = 'Like what you see? Visit the ' +\n",
              "          '<a target=\"_blank\" href=https://colab.research.google.com/notebooks/data_table.ipynb>data table notebook</a>'\n",
              "          + ' to learn more about interactive tables.';\n",
              "        element.innerHTML = '';\n",
              "        dataTable['output_type'] = 'display_data';\n",
              "        await google.colab.output.renderOutput(dataTable, element);\n",
              "        const docLink = document.createElement('div');\n",
              "        docLink.innerHTML = docLinkHtml;\n",
              "        element.appendChild(docLink);\n",
              "      }\n",
              "    </script>\n",
              "  </div>\n",
              "\n",
              "\n",
              "<div id=\"df-8121ca6b-ed32-4f90-a7c4-8a3d8ac8638d\">\n",
              "  <button class=\"colab-df-quickchart\" onclick=\"quickchart('df-8121ca6b-ed32-4f90-a7c4-8a3d8ac8638d')\"\n",
              "            title=\"Suggest charts\"\n",
              "            style=\"display:none;\">\n",
              "\n",
              "<svg xmlns=\"http://www.w3.org/2000/svg\" height=\"24px\"viewBox=\"0 0 24 24\"\n",
              "     width=\"24px\">\n",
              "    <g>\n",
              "        <path d=\"M19 3H5c-1.1 0-2 .9-2 2v14c0 1.1.9 2 2 2h14c1.1 0 2-.9 2-2V5c0-1.1-.9-2-2-2zM9 17H7v-7h2v7zm4 0h-2V7h2v10zm4 0h-2v-4h2v4z\"/>\n",
              "    </g>\n",
              "</svg>\n",
              "  </button>\n",
              "\n",
              "<style>\n",
              "  .colab-df-quickchart {\n",
              "      --bg-color: #E8F0FE;\n",
              "      --fill-color: #1967D2;\n",
              "      --hover-bg-color: #E2EBFA;\n",
              "      --hover-fill-color: #174EA6;\n",
              "      --disabled-fill-color: #AAA;\n",
              "      --disabled-bg-color: #DDD;\n",
              "  }\n",
              "\n",
              "  [theme=dark] .colab-df-quickchart {\n",
              "      --bg-color: #3B4455;\n",
              "      --fill-color: #D2E3FC;\n",
              "      --hover-bg-color: #434B5C;\n",
              "      --hover-fill-color: #FFFFFF;\n",
              "      --disabled-bg-color: #3B4455;\n",
              "      --disabled-fill-color: #666;\n",
              "  }\n",
              "\n",
              "  .colab-df-quickchart {\n",
              "    background-color: var(--bg-color);\n",
              "    border: none;\n",
              "    border-radius: 50%;\n",
              "    cursor: pointer;\n",
              "    display: none;\n",
              "    fill: var(--fill-color);\n",
              "    height: 32px;\n",
              "    padding: 0;\n",
              "    width: 32px;\n",
              "  }\n",
              "\n",
              "  .colab-df-quickchart:hover {\n",
              "    background-color: var(--hover-bg-color);\n",
              "    box-shadow: 0 1px 2px rgba(60, 64, 67, 0.3), 0 1px 3px 1px rgba(60, 64, 67, 0.15);\n",
              "    fill: var(--button-hover-fill-color);\n",
              "  }\n",
              "\n",
              "  .colab-df-quickchart-complete:disabled,\n",
              "  .colab-df-quickchart-complete:disabled:hover {\n",
              "    background-color: var(--disabled-bg-color);\n",
              "    fill: var(--disabled-fill-color);\n",
              "    box-shadow: none;\n",
              "  }\n",
              "\n",
              "  .colab-df-spinner {\n",
              "    border: 2px solid var(--fill-color);\n",
              "    border-color: transparent;\n",
              "    border-bottom-color: var(--fill-color);\n",
              "    animation:\n",
              "      spin 1s steps(1) infinite;\n",
              "  }\n",
              "\n",
              "  @keyframes spin {\n",
              "    0% {\n",
              "      border-color: transparent;\n",
              "      border-bottom-color: var(--fill-color);\n",
              "      border-left-color: var(--fill-color);\n",
              "    }\n",
              "    20% {\n",
              "      border-color: transparent;\n",
              "      border-left-color: var(--fill-color);\n",
              "      border-top-color: var(--fill-color);\n",
              "    }\n",
              "    30% {\n",
              "      border-color: transparent;\n",
              "      border-left-color: var(--fill-color);\n",
              "      border-top-color: var(--fill-color);\n",
              "      border-right-color: var(--fill-color);\n",
              "    }\n",
              "    40% {\n",
              "      border-color: transparent;\n",
              "      border-right-color: var(--fill-color);\n",
              "      border-top-color: var(--fill-color);\n",
              "    }\n",
              "    60% {\n",
              "      border-color: transparent;\n",
              "      border-right-color: var(--fill-color);\n",
              "    }\n",
              "    80% {\n",
              "      border-color: transparent;\n",
              "      border-right-color: var(--fill-color);\n",
              "      border-bottom-color: var(--fill-color);\n",
              "    }\n",
              "    90% {\n",
              "      border-color: transparent;\n",
              "      border-bottom-color: var(--fill-color);\n",
              "    }\n",
              "  }\n",
              "</style>\n",
              "\n",
              "  <script>\n",
              "    async function quickchart(key) {\n",
              "      const quickchartButtonEl =\n",
              "        document.querySelector('#' + key + ' button');\n",
              "      quickchartButtonEl.disabled = true;  // To prevent multiple clicks.\n",
              "      quickchartButtonEl.classList.add('colab-df-spinner');\n",
              "      try {\n",
              "        const charts = await google.colab.kernel.invokeFunction(\n",
              "            'suggestCharts', [key], {});\n",
              "      } catch (error) {\n",
              "        console.error('Error during call to suggestCharts:', error);\n",
              "      }\n",
              "      quickchartButtonEl.classList.remove('colab-df-spinner');\n",
              "      quickchartButtonEl.classList.add('colab-df-quickchart-complete');\n",
              "    }\n",
              "    (() => {\n",
              "      let quickchartButtonEl =\n",
              "        document.querySelector('#df-8121ca6b-ed32-4f90-a7c4-8a3d8ac8638d button');\n",
              "      quickchartButtonEl.style.display =\n",
              "        google.colab.kernel.accessAllowed ? 'block' : 'none';\n",
              "    })();\n",
              "  </script>\n",
              "</div>\n",
              "    </div>\n",
              "  </div>\n"
            ],
            "application/vnd.google.colaboratory.intrinsic+json": {
              "type": "dataframe",
              "variable_name": "test_time",
              "summary": "{\n  \"name\": \"test_time\",\n  \"rows\": 1250,\n  \"fields\": [\n    {\n      \"column\": \"Unnamed: 0\",\n      \"properties\": {\n        \"dtype\": \"number\",\n        \"std\": 360,\n        \"min\": 24330,\n        \"max\": 25579,\n        \"samples\": [\n          25010,\n          25432,\n          24724\n        ],\n        \"num_unique_values\": 1250,\n        \"semantic_type\": \"\",\n        \"description\": \"\"\n      }\n    },\n    {\n      \"column\": \"timestamp\",\n      \"properties\": {\n        \"dtype\": \"number\",\n        \"std\": 36192,\n        \"min\": 1565110306139,\n        \"max\": 1565110431376,\n        \"samples\": [\n          1565110374345,\n          1565110416642,\n          1565110345679\n        ],\n        \"num_unique_values\": 1250,\n        \"semantic_type\": \"\",\n        \"description\": \"\"\n      }\n    },\n    {\n      \"column\": \"UTC time\",\n      \"properties\": {\n        \"dtype\": \"object\",\n        \"min\": \"2019-08-06T16:51:46.139\",\n        \"max\": \"2019-08-06T16:53:51.376\",\n        \"samples\": [\n          \"2019-08-06T16:52:54.345\",\n          \"2019-08-06T16:53:36.642\",\n          \"2019-08-06T16:52:25.679\"\n        ],\n        \"num_unique_values\": 1250,\n        \"semantic_type\": \"\",\n        \"description\": \"\"\n      }\n    },\n    {\n      \"column\": \"accuracy\",\n      \"properties\": {\n        \"dtype\": \"category\",\n        \"samples\": [\n          \"unknown\"\n        ],\n        \"num_unique_values\": 1,\n        \"semantic_type\": \"\",\n        \"description\": \"\"\n      }\n    },\n    {\n      \"column\": \"x\",\n      \"properties\": {\n        \"dtype\": \"number\",\n        \"std\": 0.3424192099786828,\n        \"min\": -0.9483795166015624,\n        \"max\": 2.2061004638671875,\n        \"samples\": [\n          0.0662384033203125\n        ],\n        \"num_unique_values\": 1241,\n        \"semantic_type\": \"\",\n        \"description\": \"\"\n      }\n    },\n    {\n      \"column\": \"y\",\n      \"properties\": {\n        \"dtype\": \"number\",\n        \"std\": 0.37575705744045396,\n        \"min\": -3.12896728515625,\n        \"max\": 0.3070220947265625,\n        \"samples\": [\n          -0.7693328857421875\n        ],\n        \"num_unique_values\": 1220,\n        \"semantic_type\": \"\",\n        \"description\": \"\"\n      }\n    },\n    {\n      \"column\": \"z\",\n      \"properties\": {\n        \"dtype\": \"number\",\n        \"std\": 0.28039160179241046,\n        \"min\": -1.3476409912109375,\n        \"max\": 2.1219940185546875,\n        \"samples\": [\n          0.0814208984375\n        ],\n        \"num_unique_values\": 1219,\n        \"semantic_type\": \"\",\n        \"description\": \"\"\n      }\n    }\n  ]\n}"
            }
          },
          "metadata": {},
          "execution_count": 105
        }
      ]
    },
    {
      "cell_type": "code",
      "source": [
        "print(\"Test Label head:\")\n",
        "test_label.head()"
      ],
      "metadata": {
        "colab": {
          "base_uri": "https://localhost:8080/",
          "height": 224
        },
        "id": "7ISmUaSNFxAd",
        "outputId": "d5b39ecb-d42f-4902-cd21-1ad9238844ab"
      },
      "execution_count": null,
      "outputs": [
        {
          "output_type": "stream",
          "name": "stdout",
          "text": [
            "Test Label head:\n"
          ]
        },
        {
          "output_type": "execute_result",
          "data": {
            "text/plain": [
              "   Unnamed: 0      timestamp                 UTC time  label\n",
              "0       24339  1565110307041  2019-08-06T16:51:47.041    NaN\n",
              "1       24349  1565110308043  2019-08-06T16:51:48.043    NaN\n",
              "2       24359  1565110309046  2019-08-06T16:51:49.046    NaN\n",
              "3       24369  1565110310048  2019-08-06T16:51:50.048    NaN\n",
              "4       24379  1565110311050  2019-08-06T16:51:51.050    NaN"
            ],
            "text/html": [
              "\n",
              "  <div id=\"df-e0bb5bda-9c6b-4480-a82a-313406bbf381\" class=\"colab-df-container\">\n",
              "    <div>\n",
              "<style scoped>\n",
              "    .dataframe tbody tr th:only-of-type {\n",
              "        vertical-align: middle;\n",
              "    }\n",
              "\n",
              "    .dataframe tbody tr th {\n",
              "        vertical-align: top;\n",
              "    }\n",
              "\n",
              "    .dataframe thead th {\n",
              "        text-align: right;\n",
              "    }\n",
              "</style>\n",
              "<table border=\"1\" class=\"dataframe\">\n",
              "  <thead>\n",
              "    <tr style=\"text-align: right;\">\n",
              "      <th></th>\n",
              "      <th>Unnamed: 0</th>\n",
              "      <th>timestamp</th>\n",
              "      <th>UTC time</th>\n",
              "      <th>label</th>\n",
              "    </tr>\n",
              "  </thead>\n",
              "  <tbody>\n",
              "    <tr>\n",
              "      <th>0</th>\n",
              "      <td>24339</td>\n",
              "      <td>1565110307041</td>\n",
              "      <td>2019-08-06T16:51:47.041</td>\n",
              "      <td>NaN</td>\n",
              "    </tr>\n",
              "    <tr>\n",
              "      <th>1</th>\n",
              "      <td>24349</td>\n",
              "      <td>1565110308043</td>\n",
              "      <td>2019-08-06T16:51:48.043</td>\n",
              "      <td>NaN</td>\n",
              "    </tr>\n",
              "    <tr>\n",
              "      <th>2</th>\n",
              "      <td>24359</td>\n",
              "      <td>1565110309046</td>\n",
              "      <td>2019-08-06T16:51:49.046</td>\n",
              "      <td>NaN</td>\n",
              "    </tr>\n",
              "    <tr>\n",
              "      <th>3</th>\n",
              "      <td>24369</td>\n",
              "      <td>1565110310048</td>\n",
              "      <td>2019-08-06T16:51:50.048</td>\n",
              "      <td>NaN</td>\n",
              "    </tr>\n",
              "    <tr>\n",
              "      <th>4</th>\n",
              "      <td>24379</td>\n",
              "      <td>1565110311050</td>\n",
              "      <td>2019-08-06T16:51:51.050</td>\n",
              "      <td>NaN</td>\n",
              "    </tr>\n",
              "  </tbody>\n",
              "</table>\n",
              "</div>\n",
              "    <div class=\"colab-df-buttons\">\n",
              "\n",
              "  <div class=\"colab-df-container\">\n",
              "    <button class=\"colab-df-convert\" onclick=\"convertToInteractive('df-e0bb5bda-9c6b-4480-a82a-313406bbf381')\"\n",
              "            title=\"Convert this dataframe to an interactive table.\"\n",
              "            style=\"display:none;\">\n",
              "\n",
              "  <svg xmlns=\"http://www.w3.org/2000/svg\" height=\"24px\" viewBox=\"0 -960 960 960\">\n",
              "    <path d=\"M120-120v-720h720v720H120Zm60-500h600v-160H180v160Zm220 220h160v-160H400v160Zm0 220h160v-160H400v160ZM180-400h160v-160H180v160Zm440 0h160v-160H620v160ZM180-180h160v-160H180v160Zm440 0h160v-160H620v160Z\"/>\n",
              "  </svg>\n",
              "    </button>\n",
              "\n",
              "  <style>\n",
              "    .colab-df-container {\n",
              "      display:flex;\n",
              "      gap: 12px;\n",
              "    }\n",
              "\n",
              "    .colab-df-convert {\n",
              "      background-color: #E8F0FE;\n",
              "      border: none;\n",
              "      border-radius: 50%;\n",
              "      cursor: pointer;\n",
              "      display: none;\n",
              "      fill: #1967D2;\n",
              "      height: 32px;\n",
              "      padding: 0 0 0 0;\n",
              "      width: 32px;\n",
              "    }\n",
              "\n",
              "    .colab-df-convert:hover {\n",
              "      background-color: #E2EBFA;\n",
              "      box-shadow: 0px 1px 2px rgba(60, 64, 67, 0.3), 0px 1px 3px 1px rgba(60, 64, 67, 0.15);\n",
              "      fill: #174EA6;\n",
              "    }\n",
              "\n",
              "    .colab-df-buttons div {\n",
              "      margin-bottom: 4px;\n",
              "    }\n",
              "\n",
              "    [theme=dark] .colab-df-convert {\n",
              "      background-color: #3B4455;\n",
              "      fill: #D2E3FC;\n",
              "    }\n",
              "\n",
              "    [theme=dark] .colab-df-convert:hover {\n",
              "      background-color: #434B5C;\n",
              "      box-shadow: 0px 1px 3px 1px rgba(0, 0, 0, 0.15);\n",
              "      filter: drop-shadow(0px 1px 2px rgba(0, 0, 0, 0.3));\n",
              "      fill: #FFFFFF;\n",
              "    }\n",
              "  </style>\n",
              "\n",
              "    <script>\n",
              "      const buttonEl =\n",
              "        document.querySelector('#df-e0bb5bda-9c6b-4480-a82a-313406bbf381 button.colab-df-convert');\n",
              "      buttonEl.style.display =\n",
              "        google.colab.kernel.accessAllowed ? 'block' : 'none';\n",
              "\n",
              "      async function convertToInteractive(key) {\n",
              "        const element = document.querySelector('#df-e0bb5bda-9c6b-4480-a82a-313406bbf381');\n",
              "        const dataTable =\n",
              "          await google.colab.kernel.invokeFunction('convertToInteractive',\n",
              "                                                    [key], {});\n",
              "        if (!dataTable) return;\n",
              "\n",
              "        const docLinkHtml = 'Like what you see? Visit the ' +\n",
              "          '<a target=\"_blank\" href=https://colab.research.google.com/notebooks/data_table.ipynb>data table notebook</a>'\n",
              "          + ' to learn more about interactive tables.';\n",
              "        element.innerHTML = '';\n",
              "        dataTable['output_type'] = 'display_data';\n",
              "        await google.colab.output.renderOutput(dataTable, element);\n",
              "        const docLink = document.createElement('div');\n",
              "        docLink.innerHTML = docLinkHtml;\n",
              "        element.appendChild(docLink);\n",
              "      }\n",
              "    </script>\n",
              "  </div>\n",
              "\n",
              "\n",
              "<div id=\"df-9a107e53-729b-4cc9-8ee1-d435756f0b9a\">\n",
              "  <button class=\"colab-df-quickchart\" onclick=\"quickchart('df-9a107e53-729b-4cc9-8ee1-d435756f0b9a')\"\n",
              "            title=\"Suggest charts\"\n",
              "            style=\"display:none;\">\n",
              "\n",
              "<svg xmlns=\"http://www.w3.org/2000/svg\" height=\"24px\"viewBox=\"0 0 24 24\"\n",
              "     width=\"24px\">\n",
              "    <g>\n",
              "        <path d=\"M19 3H5c-1.1 0-2 .9-2 2v14c0 1.1.9 2 2 2h14c1.1 0 2-.9 2-2V5c0-1.1-.9-2-2-2zM9 17H7v-7h2v7zm4 0h-2V7h2v10zm4 0h-2v-4h2v4z\"/>\n",
              "    </g>\n",
              "</svg>\n",
              "  </button>\n",
              "\n",
              "<style>\n",
              "  .colab-df-quickchart {\n",
              "      --bg-color: #E8F0FE;\n",
              "      --fill-color: #1967D2;\n",
              "      --hover-bg-color: #E2EBFA;\n",
              "      --hover-fill-color: #174EA6;\n",
              "      --disabled-fill-color: #AAA;\n",
              "      --disabled-bg-color: #DDD;\n",
              "  }\n",
              "\n",
              "  [theme=dark] .colab-df-quickchart {\n",
              "      --bg-color: #3B4455;\n",
              "      --fill-color: #D2E3FC;\n",
              "      --hover-bg-color: #434B5C;\n",
              "      --hover-fill-color: #FFFFFF;\n",
              "      --disabled-bg-color: #3B4455;\n",
              "      --disabled-fill-color: #666;\n",
              "  }\n",
              "\n",
              "  .colab-df-quickchart {\n",
              "    background-color: var(--bg-color);\n",
              "    border: none;\n",
              "    border-radius: 50%;\n",
              "    cursor: pointer;\n",
              "    display: none;\n",
              "    fill: var(--fill-color);\n",
              "    height: 32px;\n",
              "    padding: 0;\n",
              "    width: 32px;\n",
              "  }\n",
              "\n",
              "  .colab-df-quickchart:hover {\n",
              "    background-color: var(--hover-bg-color);\n",
              "    box-shadow: 0 1px 2px rgba(60, 64, 67, 0.3), 0 1px 3px 1px rgba(60, 64, 67, 0.15);\n",
              "    fill: var(--button-hover-fill-color);\n",
              "  }\n",
              "\n",
              "  .colab-df-quickchart-complete:disabled,\n",
              "  .colab-df-quickchart-complete:disabled:hover {\n",
              "    background-color: var(--disabled-bg-color);\n",
              "    fill: var(--disabled-fill-color);\n",
              "    box-shadow: none;\n",
              "  }\n",
              "\n",
              "  .colab-df-spinner {\n",
              "    border: 2px solid var(--fill-color);\n",
              "    border-color: transparent;\n",
              "    border-bottom-color: var(--fill-color);\n",
              "    animation:\n",
              "      spin 1s steps(1) infinite;\n",
              "  }\n",
              "\n",
              "  @keyframes spin {\n",
              "    0% {\n",
              "      border-color: transparent;\n",
              "      border-bottom-color: var(--fill-color);\n",
              "      border-left-color: var(--fill-color);\n",
              "    }\n",
              "    20% {\n",
              "      border-color: transparent;\n",
              "      border-left-color: var(--fill-color);\n",
              "      border-top-color: var(--fill-color);\n",
              "    }\n",
              "    30% {\n",
              "      border-color: transparent;\n",
              "      border-left-color: var(--fill-color);\n",
              "      border-top-color: var(--fill-color);\n",
              "      border-right-color: var(--fill-color);\n",
              "    }\n",
              "    40% {\n",
              "      border-color: transparent;\n",
              "      border-right-color: var(--fill-color);\n",
              "      border-top-color: var(--fill-color);\n",
              "    }\n",
              "    60% {\n",
              "      border-color: transparent;\n",
              "      border-right-color: var(--fill-color);\n",
              "    }\n",
              "    80% {\n",
              "      border-color: transparent;\n",
              "      border-right-color: var(--fill-color);\n",
              "      border-bottom-color: var(--fill-color);\n",
              "    }\n",
              "    90% {\n",
              "      border-color: transparent;\n",
              "      border-bottom-color: var(--fill-color);\n",
              "    }\n",
              "  }\n",
              "</style>\n",
              "\n",
              "  <script>\n",
              "    async function quickchart(key) {\n",
              "      const quickchartButtonEl =\n",
              "        document.querySelector('#' + key + ' button');\n",
              "      quickchartButtonEl.disabled = true;  // To prevent multiple clicks.\n",
              "      quickchartButtonEl.classList.add('colab-df-spinner');\n",
              "      try {\n",
              "        const charts = await google.colab.kernel.invokeFunction(\n",
              "            'suggestCharts', [key], {});\n",
              "      } catch (error) {\n",
              "        console.error('Error during call to suggestCharts:', error);\n",
              "      }\n",
              "      quickchartButtonEl.classList.remove('colab-df-spinner');\n",
              "      quickchartButtonEl.classList.add('colab-df-quickchart-complete');\n",
              "    }\n",
              "    (() => {\n",
              "      let quickchartButtonEl =\n",
              "        document.querySelector('#df-9a107e53-729b-4cc9-8ee1-d435756f0b9a button');\n",
              "      quickchartButtonEl.style.display =\n",
              "        google.colab.kernel.accessAllowed ? 'block' : 'none';\n",
              "    })();\n",
              "  </script>\n",
              "</div>\n",
              "    </div>\n",
              "  </div>\n"
            ],
            "application/vnd.google.colaboratory.intrinsic+json": {
              "type": "dataframe",
              "variable_name": "test_label",
              "summary": "{\n  \"name\": \"test_label\",\n  \"rows\": 125,\n  \"fields\": [\n    {\n      \"column\": \"Unnamed: 0\",\n      \"properties\": {\n        \"dtype\": \"number\",\n        \"std\": 362,\n        \"min\": 24339,\n        \"max\": 25579,\n        \"samples\": [\n          24519,\n          24759,\n          24699\n        ],\n        \"num_unique_values\": 125,\n        \"semantic_type\": \"\",\n        \"description\": \"\"\n      }\n    },\n    {\n      \"column\": \"timestamp\",\n      \"properties\": {\n        \"dtype\": \"number\",\n        \"std\": 36322,\n        \"min\": 1565110307041,\n        \"max\": 1565110431376,\n        \"samples\": [\n          1565110325100,\n          1565110349187,\n          1565110343173\n        ],\n        \"num_unique_values\": 125,\n        \"semantic_type\": \"\",\n        \"description\": \"\"\n      }\n    },\n    {\n      \"column\": \"UTC time\",\n      \"properties\": {\n        \"dtype\": \"object\",\n        \"min\": \"2019-08-06T16:51:47.041\",\n        \"max\": \"2019-08-06T16:53:51.376\",\n        \"samples\": [\n          \"2019-08-06T16:52:05.100\",\n          \"2019-08-06T16:52:29.187\",\n          \"2019-08-06T16:52:23.173\"\n        ],\n        \"num_unique_values\": 125,\n        \"semantic_type\": \"\",\n        \"description\": \"\"\n      }\n    },\n    {\n      \"column\": \"label\",\n      \"properties\": {\n        \"dtype\": \"number\",\n        \"std\": NaN,\n        \"min\": NaN,\n        \"max\": NaN,\n        \"samples\": [],\n        \"num_unique_values\": 0,\n        \"semantic_type\": \"\",\n        \"description\": \"\"\n      }\n    }\n  ]\n}"
            }
          },
          "metadata": {},
          "execution_count": 106
        }
      ]
    },
    {
      "cell_type": "markdown",
      "source": [
        " Visualize the distributions of accelerometer data along each axis (X, Y, Z), explore the relationship between acceleration and activity label."
      ],
      "metadata": {
        "id": "1_-S0iV3RXI_"
      }
    },
    {
      "cell_type": "code",
      "source": [
        "\n",
        "# Merge train_time and train_labels based on timestamp\n",
        "merged_data = pd.merge(train_time, train_labels, on='timestamp')\n",
        "\n",
        "# Visualize distributions of features\n",
        "plt.figure(figsize=(10, 6))\n",
        "sns.histplot(data=merged_data, x='x', bins=50, kde=True, color='blue', alpha=0.7)\n",
        "plt.title('Distribution of Acceleration along X-axis')\n",
        "plt.xlabel('Acceleration')\n",
        "plt.ylabel('Frequency')\n",
        "plt.show()\n",
        "\n",
        "plt.figure(figsize=(10, 6))\n",
        "sns.histplot(data=merged_data, x='y', bins=50, kde=True, color='green', alpha=0.7)\n",
        "plt.title('Distribution of Acceleration along Y-axis')\n",
        "plt.xlabel('Acceleration')\n",
        "plt.ylabel('Frequency')\n",
        "plt.show()\n",
        "\n",
        "plt.figure(figsize=(10, 6))\n",
        "sns.histplot(data=merged_data, x='z', bins=50, kde=True, color='red', alpha=0.7)\n",
        "plt.title('Distribution of Acceleration along Z-axis')\n",
        "plt.xlabel('Acceleration')\n",
        "plt.ylabel('Frequency')\n",
        "plt.show()\n",
        "\n",
        "# Explore correlations between features and the target variable\n",
        "plt.figure(figsize=(10, 6))\n",
        "sns.boxplot(data=merged_data, x='label', y='x', palette='coolwarm')\n",
        "plt.title('Acceleration along X-axis by Activity Label')\n",
        "plt.xlabel('Activity Label')\n",
        "plt.ylabel('Acceleration')\n",
        "plt.show()\n",
        "\n",
        "plt.figure(figsize=(10, 6))\n",
        "sns.boxplot(data=merged_data, x='label', y='y', palette='coolwarm')\n",
        "plt.title('Acceleration along Y-axis by Activity Label')\n",
        "plt.xlabel('Activity Label')\n",
        "plt.ylabel('Acceleration')\n",
        "plt.show()\n",
        "\n",
        "plt.figure(figsize=(10, 6))\n",
        "sns.boxplot(data=merged_data, x='label', y='z', palette='coolwarm')\n",
        "plt.title('Acceleration along Z-axis by Activity Label')\n",
        "plt.xlabel('Activity Label')\n",
        "plt.ylabel('Acceleration')\n",
        "plt.show()\n"
      ],
      "metadata": {
        "colab": {
          "base_uri": "https://localhost:8080/",
          "height": 1000
        },
        "id": "IW5eKMNqRAof",
        "outputId": "ec6b5a71-77fb-4d77-8c6a-07c5ff7177a9"
      },
      "execution_count": null,
      "outputs": [
        {
          "output_type": "display_data",
          "data": {
            "text/plain": [
              "<Figure size 1000x600 with 1 Axes>"
            ],
            "image/png": "[encoded data removed]"
          },
          "metadata": {}
        },
        {
          "output_type": "display_data",
          "data": {
            "text/plain": [
              "<Figure size 1000x600 with 1 Axes>"
            ],
            "image/png": "[encoded data removed]"
          },
          "metadata": {}
        },
        {
          "output_type": "display_data",
          "data": {
            "text/plain": [
              "<Figure size 1000x600 with 1 Axes>"
            ],
            "image/png": "[encoded data removed]"
          },
          "metadata": {}
        },
        {
          "output_type": "stream",
          "name": "stderr",
          "text": [
            "<ipython-input-107-31f4ef38aae7>:28: FutureWarning: \n",
            "\n",
            "Passing `palette` without assigning `hue` is deprecated and will be removed in v0.14.0. Assign the `x` variable to `hue` and set `legend=False` for the same effect.\n",
            "\n",
            "  sns.boxplot(data=merged_data, x='label', y='x', palette='coolwarm')\n"
          ]
        },
        {
          "output_type": "display_data",
          "data": {
            "text/plain": [
              "<Figure size 1000x600 with 1 Axes>"
            ],
            "image/png": "[encoded data removed]"
          },
          "metadata": {}
        },
        {
          "output_type": "stream",
          "name": "stderr",
          "text": [
            "<ipython-input-107-31f4ef38aae7>:35: FutureWarning: \n",
            "\n",
            "Passing `palette` without assigning `hue` is deprecated and will be removed in v0.14.0. Assign the `x` variable to `hue` and set `legend=False` for the same effect.\n",
            "\n",
            "  sns.boxplot(data=merged_data, x='label', y='y', palette='coolwarm')\n"
          ]
        },
        {
          "output_type": "display_data",
          "data": {
            "text/plain": [
              "<Figure size 1000x600 with 1 Axes>"
            ],
            "image/png": "[encoded data removed]"
          },
          "metadata": {}
        },
        {
          "output_type": "stream",
          "name": "stderr",
          "text": [
            "<ipython-input-107-31f4ef38aae7>:42: FutureWarning: \n",
            "\n",
            "Passing `palette` without assigning `hue` is deprecated and will be removed in v0.14.0. Assign the `x` variable to `hue` and set `legend=False` for the same effect.\n",
            "\n",
            "  sns.boxplot(data=merged_data, x='label', y='z', palette='coolwarm')\n"
          ]
        },
        {
          "output_type": "display_data",
          "data": {
            "text/plain": [
              "<Figure size 1000x600 with 1 Axes>"
            ],
            "image/png": "[encoded data removed]"
          },
          "metadata": {}
        }
      ]
    },
    {
      "cell_type": "markdown",
      "source": [
        "Identify potential outliers or anomalies"
      ],
      "metadata": {
        "id": "KDBc-pusROcn"
      }
    },
    {
      "cell_type": "code",
      "source": [
        "plt.figure(figsize=(10, 6))\n",
        "sns.boxplot(data=merged_data[['x', 'y', 'z']])\n",
        "plt.title('Boxplot of Acceleration along X, Y, Z axes')\n",
        "plt.xlabel('Axis')\n",
        "plt.ylabel('Acceleration')\n",
        "plt.show()"
      ],
      "metadata": {
        "colab": {
          "base_uri": "https://localhost:8080/",
          "height": 564
        },
        "id": "y5bgknnjRTSp",
        "outputId": "f27dd88c-92c1-4028-e517-ce2c64d434bc"
      },
      "execution_count": null,
      "outputs": [
        {
          "output_type": "display_data",
          "data": {
            "text/plain": [
              "<Figure size 1000x600 with 1 Axes>"
            ],
            "image/png": "[encoded data removed]"
          },
          "metadata": {}
        }
      ]
    },
    {
      "cell_type": "markdown",
      "source": [
        "## Edit the Datasets"
      ],
      "metadata": {
        "id": "JE8c4XWFDB0n"
      }
    },
    {
      "cell_type": "markdown",
      "source": [
        "**Remove the `accuracy`** column from the train_time and test_time datasets:"
      ],
      "metadata": {
        "id": "Q4q4ZEUNGyzJ"
      }
    },
    {
      "cell_type": "code",
      "source": [
        "# Using the .drop() method to drop the 'accuracy' column\n",
        "train_time.drop(\"accuracy\", axis = 1, inplace = True)\n",
        "test_time.drop(\"accuracy\", axis = 1, inplace = True)"
      ],
      "metadata": {
        "id": "EhRl1O-0Gx7n"
      },
      "execution_count": null,
      "outputs": []
    },
    {
      "cell_type": "markdown",
      "source": [
        "**Convert the `[UTC time]`** to the format Year-Month-Date,Hour:Minute:Second:Microsecond."
      ],
      "metadata": {
        "id": "i4Y7-lsiHGm_"
      }
    },
    {
      "cell_type": "code",
      "source": [
        "# Converting the 'UTC time' of training data\n",
        "train_time['UTC time'] =  pd.to_datetime(train_time['UTC time'], format='%Y-%m-%dT%H:%M:%S.%f')\n",
        "train_labels['UTC time'] =  pd.to_datetime(train_labels['UTC time'], format='%Y-%m-%dT%H:%M:%S.%f')\n",
        "\n",
        "\n",
        "# Converting the 'UTC time' of testing data\n",
        "test_time['UTC time'] =  pd.to_datetime(test_time['UTC time'], format='%Y-%m-%dT%H:%M:%S.%f')\n",
        "test_label['UTC time'] =  pd.to_datetime(test_label['UTC time'], format='%Y-%m-%dT%H:%M:%S.%f')"
      ],
      "metadata": {
        "id": "HgMfAcmSIxfR"
      },
      "execution_count": null,
      "outputs": []
    },
    {
      "cell_type": "markdown",
      "source": [
        "Check the **number of NaNs** in the Datasets:"
      ],
      "metadata": {
        "id": "z79x1KmXJDYy"
      }
    },
    {
      "cell_type": "code",
      "source": [
        "# Repklce the cells with value infinity to NaN\n",
        "train_time = train_time.replace([np.inf, -np.inf], np.nan)\n",
        "train_labels = train_labels.replace([np.inf, -np.inf], np.nan)\n"
      ],
      "metadata": {
        "id": "QcORUVBKJCoE"
      },
      "execution_count": null,
      "outputs": []
    },
    {
      "cell_type": "code",
      "source": [
        "# Printing the count of NaN values in each coulmns\n",
        "print(\"\\nNumber of NaN values in the input training times:\")\n",
        "print(train_time.isnull().sum())\n",
        "print(\"\\nNumber of NaN values in the input training labels:\")\n",
        "print(train_labels.isnull().sum())"
      ],
      "metadata": {
        "colab": {
          "base_uri": "https://localhost:8080/"
        },
        "id": "FgWNXaN3JnhK",
        "outputId": "362ee5fe-8559-4fc3-8224-3cb85b6b6108"
      },
      "execution_count": null,
      "outputs": [
        {
          "output_type": "stream",
          "name": "stdout",
          "text": [
            "\n",
            "Number of NaN values in the input training times:\n",
            "Unnamed: 0    0\n",
            "timestamp     0\n",
            "UTC time      0\n",
            "x             0\n",
            "y             0\n",
            "z             0\n",
            "dtype: int64\n",
            "\n",
            "Number of NaN values in the input training labels:\n",
            "Unnamed: 0    0\n",
            "timestamp     0\n",
            "UTC time      0\n",
            "label         0\n",
            "dtype: int64\n"
          ]
        }
      ]
    },
    {
      "cell_type": "markdown",
      "source": [
        "Check if there are any **imbalances** in the data:"
      ],
      "metadata": {
        "id": "LHy0nhIQJuI0"
      }
    },
    {
      "cell_type": "code",
      "source": [
        "# Counting frequency of each label in the `train_time` dataframe\n",
        "label_count = train_labels[\"label\"].value_counts().to_dict()\n",
        "\n",
        "\n",
        "# Calculating the percentage of each label\n",
        "total_count=train_labels[\"label\"].value_counts().sum()\n",
        "for lab,cou in label_count.items():\n",
        "    print(\"{}% of labels are label {}\".format(round(cou/total_count*100,2),lab))\n"
      ],
      "metadata": {
        "colab": {
          "base_uri": "https://localhost:8080/"
        },
        "id": "kBeU9BKxKJ7x",
        "outputId": "27fe4ecd-1022-4a50-ae67-3e52fa3b9d61"
      },
      "execution_count": null,
      "outputs": [
        {
          "output_type": "stream",
          "name": "stdout",
          "text": [
            "56.8% of labels are label 2\n",
            "23.47% of labels are label 3\n",
            "12.53% of labels are label 4\n",
            "7.2% of labels are label 1\n"
          ]
        }
      ]
    },
    {
      "cell_type": "code",
      "source": [
        "plt.bar(label_count.keys(),label_count.values(),color=\"red\", width=0.5)\n",
        "plt.xticks(list(label_count.keys()))\n",
        "plt.title(\"Labels of Training data\")\n",
        "plt.xlabel(\"Label\")\n",
        "plt.ylabel(\"Count\")"
      ],
      "metadata": {
        "colab": {
          "base_uri": "https://localhost:8080/",
          "height": 489
        },
        "id": "kvGAcwOIKNzZ",
        "outputId": "f70752b2-1a5b-4b11-b541-396d5ca88c65"
      },
      "execution_count": null,
      "outputs": [
        {
          "output_type": "execute_result",
          "data": {
            "text/plain": [
              "Text(0, 0.5, 'Count')"
            ]
          },
          "metadata": {},
          "execution_count": 114
        },
        {
          "output_type": "display_data",
          "data": {
            "text/plain": [
              "<Figure size 640x480 with 1 Axes>"
            ],
            "image/png": "[encoded data removed]"
          },
          "metadata": {}
        }
      ]
    },
    {
      "cell_type": "markdown",
      "source": [
        "The Label 2 has more ocurrences then any other class."
      ],
      "metadata": {
        "id": "Ug8nllb1K8gL"
      }
    },
    {
      "cell_type": "markdown",
      "source": [
        "## Calculations"
      ],
      "metadata": {
        "id": "d_x0_gMnLWtw"
      }
    },
    {
      "cell_type": "markdown",
      "source": [
        "Firstly, **the rolling average** of x,y,z will be calculated:"
      ],
      "metadata": {
        "id": "r_qk5wNBMCZ7"
      }
    },
    {
      "cell_type": "code",
      "source": [
        "def rolling_averages(data):\n",
        "    data[\"x_mean\"] = data[\"x\"].rolling(window = 4).mean()\n",
        "    data[\"y_mean\"] = data[\"y\"].rolling(window = 4).mean()\n",
        "    data[\"z_mean\"] = data[\"z\"].rolling(window = 4).mean()\n",
        "    return data\n",
        "train_time=rolling_averages(train_time)\n",
        "print(train_time)\n",
        "test_time=rolling_averages(test_time)\n",
        "print(test_time)"
      ],
      "metadata": {
        "colab": {
          "base_uri": "https://localhost:8080/"
        },
        "id": "MPfiyX98LFjv",
        "outputId": "9a9d870b-1e10-4a02-848a-54bd2dc250c5"
      },
      "execution_count": null,
      "outputs": [
        {
          "output_type": "stream",
          "name": "stdout",
          "text": [
            "      Unnamed: 0      timestamp                UTC time         x         y  \\\n",
            "0          20586  1565109930787 2019-08-06 16:45:30.787 -0.006485 -0.934860   \n",
            "1          20587  1565109930887 2019-08-06 16:45:30.887 -0.066467 -1.015442   \n",
            "2          20588  1565109930987 2019-08-06 16:45:30.987 -0.043488 -1.021255   \n",
            "3          20589  1565109931087 2019-08-06 16:45:31.087 -0.053802 -0.987701   \n",
            "4          20590  1565109931188 2019-08-06 16:45:31.188 -0.054031 -1.003616   \n",
            "...          ...            ...                     ...       ...       ...   \n",
            "3739       24325  1565110305638 2019-08-06 16:51:45.638  0.024384 -0.710709   \n",
            "3740       24326  1565110305738 2019-08-06 16:51:45.738  0.487228 -1.099136   \n",
            "3741       24327  1565110305838 2019-08-06 16:51:45.838  0.369446 -0.968506   \n",
            "3742       24328  1565110305939 2019-08-06 16:51:45.939  0.167877 -0.802826   \n",
            "3743       24329  1565110306039 2019-08-06 16:51:46.039  0.689346 -0.991043   \n",
            "\n",
            "             z    x_mean    y_mean    z_mean  \n",
            "0    -0.069046       NaN       NaN       NaN  \n",
            "1     0.089554       NaN       NaN       NaN  \n",
            "2     0.178467       NaN       NaN       NaN  \n",
            "3     0.068985 -0.042561 -0.989815  0.066990  \n",
            "4     0.126450 -0.054447 -1.007004  0.115864  \n",
            "...        ...       ...       ...       ...  \n",
            "3739  0.030304  0.314079 -0.994305  0.223125  \n",
            "3740 -0.015213  0.418560 -1.168140  0.205650  \n",
            "3741  0.036713  0.430115 -1.383556  0.206760  \n",
            "3742  0.049805  0.262234 -0.895294  0.025402  \n",
            "3743  0.034973  0.428474 -0.965378  0.026569  \n",
            "\n",
            "[3744 rows x 9 columns]\n",
            "      Unnamed: 0      timestamp                UTC time         x         y  \\\n",
            "0          24330  1565110306139 2019-08-06 16:51:46.139  0.034286 -1.504456   \n",
            "1          24331  1565110306239 2019-08-06 16:51:46.239  0.409164 -1.038544   \n",
            "2          24332  1565110306340 2019-08-06 16:51:46.340 -0.234390 -0.984558   \n",
            "3          24333  1565110306440 2019-08-06 16:51:46.440  0.251114 -0.787003   \n",
            "4          24334  1565110306540 2019-08-06 16:51:46.540  0.109924 -0.169510   \n",
            "...          ...            ...                     ...       ...       ...   \n",
            "1245       25575  1565110430975 2019-08-06 16:53:50.975  0.036499 -0.724823   \n",
            "1246       25576  1565110431075 2019-08-06 16:53:51.075 -0.159241  0.307022   \n",
            "1247       25577  1565110431175 2019-08-06 16:53:51.175 -0.037964 -0.673706   \n",
            "1248       25578  1565110431275 2019-08-06 16:53:51.275  0.255707 -1.485397   \n",
            "1249       25579  1565110431376 2019-08-06 16:53:51.376 -0.089462 -0.734573   \n",
            "\n",
            "             z    x_mean    y_mean    z_mean  \n",
            "0     0.157623       NaN       NaN       NaN  \n",
            "1     0.030975       NaN       NaN       NaN  \n",
            "2     0.124771       NaN       NaN       NaN  \n",
            "3     0.054810  0.115044 -1.078640  0.092045  \n",
            "4     0.235550  0.133953 -0.744904  0.111526  \n",
            "...        ...       ...       ...       ...  \n",
            "1245  0.553802  0.013081 -0.848148 -0.034206  \n",
            "1246  0.142410  0.057560 -0.388809  0.136803  \n",
            "1247  1.065445 -0.027622 -0.356674  0.445477  \n",
            "1248 -0.013336  0.023750 -0.644226  0.437080  \n",
            "1249 -0.100876 -0.007740 -0.646664  0.273411  \n",
            "\n",
            "[1250 rows x 9 columns]\n"
          ]
        }
      ]
    },
    {
      "cell_type": "markdown",
      "source": [
        "The **rolling standard deviation** of x,y,z will be calculated:"
      ],
      "metadata": {
        "id": "WFsq63uRNOMZ"
      }
    },
    {
      "cell_type": "code",
      "source": [
        "def rolling_SD(data):\n",
        "    data[\"x_sd\"] = data[\"x\"].rolling(window = 4).std()\n",
        "    data[\"y_sd\"] = data[\"y\"].rolling(window = 4).std()\n",
        "    data[\"z_sd\"] = data[\"z\"].rolling(window = 4).std()\n",
        "    return data\n",
        "train_time=rolling_SD(train_time)\n",
        "print(train_time)\n",
        "test_time=rolling_SD(test_time)\n",
        "print(train_time)"
      ],
      "metadata": {
        "colab": {
          "base_uri": "https://localhost:8080/"
        },
        "id": "6821x82ZLV0F",
        "outputId": "0518373d-d2b2-45f5-f11a-19e929f82dba"
      },
      "execution_count": null,
      "outputs": [
        {
          "output_type": "stream",
          "name": "stdout",
          "text": [
            "      Unnamed: 0      timestamp                UTC time         x         y  \\\n",
            "0          20586  1565109930787 2019-08-06 16:45:30.787 -0.006485 -0.934860   \n",
            "1          20587  1565109930887 2019-08-06 16:45:30.887 -0.066467 -1.015442   \n",
            "2          20588  1565109930987 2019-08-06 16:45:30.987 -0.043488 -1.021255   \n",
            "3          20589  1565109931087 2019-08-06 16:45:31.087 -0.053802 -0.987701   \n",
            "4          20590  1565109931188 2019-08-06 16:45:31.188 -0.054031 -1.003616   \n",
            "...          ...            ...                     ...       ...       ...   \n",
            "3739       24325  1565110305638 2019-08-06 16:51:45.638  0.024384 -0.710709   \n",
            "3740       24326  1565110305738 2019-08-06 16:51:45.738  0.487228 -1.099136   \n",
            "3741       24327  1565110305838 2019-08-06 16:51:45.838  0.369446 -0.968506   \n",
            "3742       24328  1565110305939 2019-08-06 16:51:45.939  0.167877 -0.802826   \n",
            "3743       24329  1565110306039 2019-08-06 16:51:46.039  0.689346 -0.991043   \n",
            "\n",
            "             z    x_mean    y_mean    z_mean      x_sd      y_sd      z_sd  \n",
            "0    -0.069046       NaN       NaN       NaN       NaN       NaN       NaN  \n",
            "1     0.089554       NaN       NaN       NaN       NaN       NaN       NaN  \n",
            "2     0.178467       NaN       NaN       NaN       NaN       NaN       NaN  \n",
            "3     0.068985 -0.042561 -0.989815  0.066990  0.025821  0.039454  0.102382  \n",
            "4     0.126450 -0.054447 -1.007004  0.115864  0.009402  0.014814  0.048031  \n",
            "...        ...       ...       ...       ...       ...       ...       ...  \n",
            "3739  0.030304  0.314079 -0.994305  0.223125  0.374114  1.199979  0.368241  \n",
            "3740 -0.015213  0.418560 -1.168140  0.205650  0.339748  1.134498  0.380358  \n",
            "3741  0.036713  0.430115 -1.383556  0.206760  0.336192  0.929004  0.379689  \n",
            "3742  0.049805  0.262234 -0.895294  0.025402  0.206230  0.172756  0.028267  \n",
            "3743  0.034973  0.428474 -0.965378  0.026569  0.218252  0.122451  0.028631  \n",
            "\n",
            "[3744 rows x 12 columns]\n",
            "      Unnamed: 0      timestamp                UTC time         x         y  \\\n",
            "0          20586  1565109930787 2019-08-06 16:45:30.787 -0.006485 -0.934860   \n",
            "1          20587  1565109930887 2019-08-06 16:45:30.887 -0.066467 -1.015442   \n",
            "2          20588  1565109930987 2019-08-06 16:45:30.987 -0.043488 -1.021255   \n",
            "3          20589  1565109931087 2019-08-06 16:45:31.087 -0.053802 -0.987701   \n",
            "4          20590  1565109931188 2019-08-06 16:45:31.188 -0.054031 -1.003616   \n",
            "...          ...            ...                     ...       ...       ...   \n",
            "3739       24325  1565110305638 2019-08-06 16:51:45.638  0.024384 -0.710709   \n",
            "3740       24326  1565110305738 2019-08-06 16:51:45.738  0.487228 -1.099136   \n",
            "3741       24327  1565110305838 2019-08-06 16:51:45.838  0.369446 -0.968506   \n",
            "3742       24328  1565110305939 2019-08-06 16:51:45.939  0.167877 -0.802826   \n",
            "3743       24329  1565110306039 2019-08-06 16:51:46.039  0.689346 -0.991043   \n",
            "\n",
            "             z    x_mean    y_mean    z_mean      x_sd      y_sd      z_sd  \n",
            "0    -0.069046       NaN       NaN       NaN       NaN       NaN       NaN  \n",
            "1     0.089554       NaN       NaN       NaN       NaN       NaN       NaN  \n",
            "2     0.178467       NaN       NaN       NaN       NaN       NaN       NaN  \n",
            "3     0.068985 -0.042561 -0.989815  0.066990  0.025821  0.039454  0.102382  \n",
            "4     0.126450 -0.054447 -1.007004  0.115864  0.009402  0.014814  0.048031  \n",
            "...        ...       ...       ...       ...       ...       ...       ...  \n",
            "3739  0.030304  0.314079 -0.994305  0.223125  0.374114  1.199979  0.368241  \n",
            "3740 -0.015213  0.418560 -1.168140  0.205650  0.339748  1.134498  0.380358  \n",
            "3741  0.036713  0.430115 -1.383556  0.206760  0.336192  0.929004  0.379689  \n",
            "3742  0.049805  0.262234 -0.895294  0.025402  0.206230  0.172756  0.028267  \n",
            "3743  0.034973  0.428474 -0.965378  0.026569  0.218252  0.122451  0.028631  \n",
            "\n",
            "[3744 rows x 12 columns]\n"
          ]
        }
      ]
    },
    {
      "cell_type": "markdown",
      "source": [
        "**The magnitude of acceleration** of x,y,z and the rolling avarege and standard diviation."
      ],
      "metadata": {
        "id": "OKVkeCKXOUAS"
      }
    },
    {
      "cell_type": "code",
      "source": [
        "def add_magnitude(data):\n",
        "    mag = (data['x'] ** 2) + (data['y'] ** 2 ) + (data['z'] ** 2 )\n",
        "    mag = mag.apply(lambda x: math.sqrt(x))\n",
        "    data['magnitude'] = mag\n",
        "    data[\"m_mean\"] = data[\"magnitude\"].rolling(window = 4).mean()\n",
        "    data[\"m_sd\"] = data[\"magnitude\"].rolling(window = 4).std()\n",
        "    return data\n",
        "train_time=add_magnitude(train_time)\n",
        "print(train_time)\n",
        "test_time=add_magnitude(test_time)\n",
        "print(test_time)"
      ],
      "metadata": {
        "colab": {
          "base_uri": "https://localhost:8080/"
        },
        "id": "84EDL8oOOinC",
        "outputId": "fddbc8d8-15c0-4251-e6a6-9b557f2e5911"
      },
      "execution_count": null,
      "outputs": [
        {
          "output_type": "stream",
          "name": "stdout",
          "text": [
            "      Unnamed: 0      timestamp                UTC time         x         y  \\\n",
            "0          20586  1565109930787 2019-08-06 16:45:30.787 -0.006485 -0.934860   \n",
            "1          20587  1565109930887 2019-08-06 16:45:30.887 -0.066467 -1.015442   \n",
            "2          20588  1565109930987 2019-08-06 16:45:30.987 -0.043488 -1.021255   \n",
            "3          20589  1565109931087 2019-08-06 16:45:31.087 -0.053802 -0.987701   \n",
            "4          20590  1565109931188 2019-08-06 16:45:31.188 -0.054031 -1.003616   \n",
            "...          ...            ...                     ...       ...       ...   \n",
            "3739       24325  1565110305638 2019-08-06 16:51:45.638  0.024384 -0.710709   \n",
            "3740       24326  1565110305738 2019-08-06 16:51:45.738  0.487228 -1.099136   \n",
            "3741       24327  1565110305838 2019-08-06 16:51:45.838  0.369446 -0.968506   \n",
            "3742       24328  1565110305939 2019-08-06 16:51:45.939  0.167877 -0.802826   \n",
            "3743       24329  1565110306039 2019-08-06 16:51:46.039  0.689346 -0.991043   \n",
            "\n",
            "             z    x_mean    y_mean    z_mean      x_sd      y_sd      z_sd  \\\n",
            "0    -0.069046       NaN       NaN       NaN       NaN       NaN       NaN   \n",
            "1     0.089554       NaN       NaN       NaN       NaN       NaN       NaN   \n",
            "2     0.178467       NaN       NaN       NaN       NaN       NaN       NaN   \n",
            "3     0.068985 -0.042561 -0.989815  0.066990  0.025821  0.039454  0.102382   \n",
            "4     0.126450 -0.054447 -1.007004  0.115864  0.009402  0.014814  0.048031   \n",
            "...        ...       ...       ...       ...       ...       ...       ...   \n",
            "3739  0.030304  0.314079 -0.994305  0.223125  0.374114  1.199979  0.368241   \n",
            "3740 -0.015213  0.418560 -1.168140  0.205650  0.339748  1.134498  0.380358   \n",
            "3741  0.036713  0.430115 -1.383556  0.206760  0.336192  0.929004  0.379689   \n",
            "3742  0.049805  0.262234 -0.895294  0.025402  0.206230  0.172756  0.028267   \n",
            "3743  0.034973  0.428474 -0.965378  0.026569  0.218252  0.122451  0.028631   \n",
            "\n",
            "      magnitude    m_mean      m_sd  \n",
            "0      0.937429       NaN       NaN  \n",
            "1      1.021548       NaN       NaN  \n",
            "2      1.037644       NaN       NaN  \n",
            "3      0.991568  0.997047  0.044093  \n",
            "4      1.012993  1.015938  0.019193  \n",
            "...         ...       ...       ...  \n",
            "3739   0.711772  1.112604  1.257415  \n",
            "3740   1.202382  1.309867  1.170000  \n",
            "3741   1.037228  1.483685  1.020348  \n",
            "3742   0.821701  0.943271  0.219346  \n",
            "3743   1.207720  1.067258  0.181832  \n",
            "\n",
            "[3744 rows x 15 columns]\n",
            "      Unnamed: 0      timestamp                UTC time         x         y  \\\n",
            "0          24330  1565110306139 2019-08-06 16:51:46.139  0.034286 -1.504456   \n",
            "1          24331  1565110306239 2019-08-06 16:51:46.239  0.409164 -1.038544   \n",
            "2          24332  1565110306340 2019-08-06 16:51:46.340 -0.234390 -0.984558   \n",
            "3          24333  1565110306440 2019-08-06 16:51:46.440  0.251114 -0.787003   \n",
            "4          24334  1565110306540 2019-08-06 16:51:46.540  0.109924 -0.169510   \n",
            "...          ...            ...                     ...       ...       ...   \n",
            "1245       25575  1565110430975 2019-08-06 16:53:50.975  0.036499 -0.724823   \n",
            "1246       25576  1565110431075 2019-08-06 16:53:51.075 -0.159241  0.307022   \n",
            "1247       25577  1565110431175 2019-08-06 16:53:51.175 -0.037964 -0.673706   \n",
            "1248       25578  1565110431275 2019-08-06 16:53:51.275  0.255707 -1.485397   \n",
            "1249       25579  1565110431376 2019-08-06 16:53:51.376 -0.089462 -0.734573   \n",
            "\n",
            "             z    x_mean    y_mean    z_mean      x_sd      y_sd      z_sd  \\\n",
            "0     0.157623       NaN       NaN       NaN       NaN       NaN       NaN   \n",
            "1     0.030975       NaN       NaN       NaN       NaN       NaN       NaN   \n",
            "2     0.124771       NaN       NaN       NaN       NaN       NaN       NaN   \n",
            "3     0.054810  0.115044 -1.078640  0.092045  0.279075  0.303771  0.059126   \n",
            "4     0.235550  0.133953 -0.744904  0.111526  0.274300  0.398543  0.091765   \n",
            "...        ...       ...       ...       ...       ...       ...       ...   \n",
            "1245  0.553802  0.013081 -0.848148 -0.034206  0.263636  0.498605  0.456228   \n",
            "1246  0.142410  0.057560 -0.388809  0.136803  0.189407  0.506916  0.306145   \n",
            "1247  1.065445 -0.027622 -0.356674  0.445477  0.095918  0.475043  0.472145   \n",
            "1248 -0.013336  0.023750 -0.644226  0.437080  0.174414  0.734803  0.482415   \n",
            "1249 -0.100876 -0.007740 -0.646664  0.273411  0.182527  0.735176  0.537523   \n",
            "\n",
            "      magnitude    m_mean      m_sd  \n",
            "0      1.513079       NaN       NaN  \n",
            "1      1.116668       NaN       NaN  \n",
            "2      1.019736       NaN       NaN  \n",
            "3      0.827910  1.119348  0.288611  \n",
            "4      0.310324  0.818659  0.359505  \n",
            "...         ...       ...       ...  \n",
            "1245   0.912906  0.946115  0.541916  \n",
            "1246   0.374033  0.625124  0.310578  \n",
            "1247   1.261148  0.721906  0.445154  \n",
            "1248   1.507305  1.013848  0.491328  \n",
            "1249   0.746845  0.972333  0.509384  \n",
            "\n",
            "[1250 rows x 15 columns]\n"
          ]
        }
      ]
    },
    {
      "cell_type": "markdown",
      "source": [
        "The **energy** of each acceleration:"
      ],
      "metadata": {
        "id": "aM176WJYOjHE"
      }
    },
    {
      "cell_type": "code",
      "source": [
        "def add_energy(data):\n",
        "    data[\"x_E\"] = (data[\"x\"]**2).rolling(window = 4).sum()\n",
        "    data[\"y_E\"] = (data[\"y\"]**2).rolling(window = 4).sum()\n",
        "    data[\"z_E\"] = (data[\"z\"]**2).rolling(window = 4).sum()\n",
        "    return data\n",
        "train_time=add_energy(train_time)\n",
        "print(train_time)\n",
        "test_time=add_energy(test_time)\n",
        "print(test_time)"
      ],
      "metadata": {
        "colab": {
          "base_uri": "https://localhost:8080/"
        },
        "id": "Q1SI0YvNOjgK",
        "outputId": "a5c11689-e1a0-4aaf-aad7-1d95ac953001"
      },
      "execution_count": null,
      "outputs": [
        {
          "output_type": "stream",
          "name": "stdout",
          "text": [
            "      Unnamed: 0      timestamp                UTC time         x         y  \\\n",
            "0          20586  1565109930787 2019-08-06 16:45:30.787 -0.006485 -0.934860   \n",
            "1          20587  1565109930887 2019-08-06 16:45:30.887 -0.066467 -1.015442   \n",
            "2          20588  1565109930987 2019-08-06 16:45:30.987 -0.043488 -1.021255   \n",
            "3          20589  1565109931087 2019-08-06 16:45:31.087 -0.053802 -0.987701   \n",
            "4          20590  1565109931188 2019-08-06 16:45:31.188 -0.054031 -1.003616   \n",
            "...          ...            ...                     ...       ...       ...   \n",
            "3739       24325  1565110305638 2019-08-06 16:51:45.638  0.024384 -0.710709   \n",
            "3740       24326  1565110305738 2019-08-06 16:51:45.738  0.487228 -1.099136   \n",
            "3741       24327  1565110305838 2019-08-06 16:51:45.838  0.369446 -0.968506   \n",
            "3742       24328  1565110305939 2019-08-06 16:51:45.939  0.167877 -0.802826   \n",
            "3743       24329  1565110306039 2019-08-06 16:51:46.039  0.689346 -0.991043   \n",
            "\n",
            "             z    x_mean    y_mean    z_mean      x_sd      y_sd      z_sd  \\\n",
            "0    -0.069046       NaN       NaN       NaN       NaN       NaN       NaN   \n",
            "1     0.089554       NaN       NaN       NaN       NaN       NaN       NaN   \n",
            "2     0.178467       NaN       NaN       NaN       NaN       NaN       NaN   \n",
            "3     0.068985 -0.042561 -0.989815  0.066990  0.025821  0.039454  0.102382   \n",
            "4     0.126450 -0.054447 -1.007004  0.115864  0.009402  0.014814  0.048031   \n",
            "...        ...       ...       ...       ...       ...       ...       ...   \n",
            "3739  0.030304  0.314079 -0.994305  0.223125  0.374114  1.199979  0.368241   \n",
            "3740 -0.015213  0.418560 -1.168140  0.205650  0.339748  1.134498  0.380358   \n",
            "3741  0.036713  0.430115 -1.383556  0.206760  0.336192  0.929004  0.379689   \n",
            "3742  0.049805  0.262234 -0.895294  0.025402  0.206230  0.172756  0.028267   \n",
            "3743  0.034973  0.428474 -0.965378  0.026569  0.218252  0.122451  0.028631   \n",
            "\n",
            "      magnitude    m_mean      m_sd       x_E        y_E       z_E  \n",
            "0      0.937429       NaN       NaN       NaN        NaN       NaN  \n",
            "1      1.021548       NaN       NaN       NaN        NaN       NaN  \n",
            "2      1.037644       NaN       NaN       NaN        NaN       NaN  \n",
            "3      0.991568  0.997047  0.044093  0.009246   3.923603  0.049397  \n",
            "4      1.012993  1.015938  0.019193  0.012123   4.056885  0.060619  \n",
            "...         ...       ...       ...       ...        ...       ...  \n",
            "3739   0.711772  1.112604  1.257415  0.814468   8.274416  0.605945  \n",
            "3740   1.202382  1.309867  1.170000  1.047056   9.319468  0.603185  \n",
            "3741   1.037228  1.483685  1.020348  1.079071  10.246056  0.603492  \n",
            "3742   0.821701  0.943271  0.219346  0.402659   3.295741  0.004978  \n",
            "3743   1.207720  1.067258  0.181832  0.877263   3.772800  0.005283  \n",
            "\n",
            "[3744 rows x 18 columns]\n",
            "      Unnamed: 0      timestamp                UTC time         x         y  \\\n",
            "0          24330  1565110306139 2019-08-06 16:51:46.139  0.034286 -1.504456   \n",
            "1          24331  1565110306239 2019-08-06 16:51:46.239  0.409164 -1.038544   \n",
            "2          24332  1565110306340 2019-08-06 16:51:46.340 -0.234390 -0.984558   \n",
            "3          24333  1565110306440 2019-08-06 16:51:46.440  0.251114 -0.787003   \n",
            "4          24334  1565110306540 2019-08-06 16:51:46.540  0.109924 -0.169510   \n",
            "...          ...            ...                     ...       ...       ...   \n",
            "1245       25575  1565110430975 2019-08-06 16:53:50.975  0.036499 -0.724823   \n",
            "1246       25576  1565110431075 2019-08-06 16:53:51.075 -0.159241  0.307022   \n",
            "1247       25577  1565110431175 2019-08-06 16:53:51.175 -0.037964 -0.673706   \n",
            "1248       25578  1565110431275 2019-08-06 16:53:51.275  0.255707 -1.485397   \n",
            "1249       25579  1565110431376 2019-08-06 16:53:51.376 -0.089462 -0.734573   \n",
            "\n",
            "             z    x_mean    y_mean    z_mean      x_sd      y_sd      z_sd  \\\n",
            "0     0.157623       NaN       NaN       NaN       NaN       NaN       NaN   \n",
            "1     0.030975       NaN       NaN       NaN       NaN       NaN       NaN   \n",
            "2     0.124771       NaN       NaN       NaN       NaN       NaN       NaN   \n",
            "3     0.054810  0.115044 -1.078640  0.092045  0.279075  0.303771  0.059126   \n",
            "4     0.235550  0.133953 -0.744904  0.111526  0.274300  0.398543  0.091765   \n",
            "...        ...       ...       ...       ...       ...       ...       ...   \n",
            "1245  0.553802  0.013081 -0.848148 -0.034206  0.263636  0.498605  0.456228   \n",
            "1246  0.142410  0.057560 -0.388809  0.136803  0.189407  0.506916  0.306145   \n",
            "1247  1.065445 -0.027622 -0.356674  0.445477  0.095918  0.475043  0.472145   \n",
            "1248 -0.013336  0.023750 -0.644226  0.437080  0.174414  0.734803  0.482415   \n",
            "1249 -0.100876 -0.007740 -0.646664  0.273411  0.182527  0.735176  0.537523   \n",
            "\n",
            "      magnitude    m_mean      m_sd       x_E       y_E       z_E  \n",
            "0      1.513079       NaN       NaN       NaN       NaN       NaN  \n",
            "1      1.116668       NaN       NaN       NaN       NaN       NaN  \n",
            "2      1.019736       NaN       NaN       NaN       NaN       NaN  \n",
            "3      0.827910  1.119348  0.288611  0.286588  4.930687  0.044376  \n",
            "4      0.310324  0.818659  0.359505  0.297496  2.696034  0.075015  \n",
            "...         ...       ...       ...       ...       ...       ...  \n",
            "1245   0.912906  0.946115  0.541916  0.209196  3.623243  0.629112  \n",
            "1246   0.374033  0.625124  0.310578  0.120878  1.375582  0.356034  \n",
            "1247   1.261148  0.721906  0.445154  0.030653  1.185863  1.462561  \n",
            "1248   1.507305  1.013848  0.491328  0.093517  3.279916  1.462329  \n",
            "1249   0.746845  0.972333  0.509384  0.100188  3.294146  1.165807  \n",
            "\n",
            "[1250 rows x 18 columns]\n"
          ]
        }
      ]
    },
    {
      "cell_type": "markdown",
      "source": [
        "## Classification Models"
      ],
      "metadata": {
        "id": "rol_3TDEPuHX"
      }
    },
    {
      "cell_type": "markdown",
      "source": [
        "Let's split the dataframe to find back our initial train_time set (with labels) and train_time set (without labels) but now with additional features."
      ],
      "metadata": {
        "id": "5zNPSnu4RrjL"
      }
    },
    {
      "cell_type": "code",
      "source": [
        "def get_subset(start_ind, data):\n",
        "    ind=np.arange(start_ind, start_ind+len(data), 10)\n",
        "    sub_data=data[data[\"Unnamed: 0\"].isin(ind)]\n",
        "    return sub_data"
      ],
      "metadata": {
        "id": "o-Vzh4CdRhZH"
      },
      "execution_count": null,
      "outputs": []
    },
    {
      "cell_type": "code",
      "source": [
        "sub_train_time=get_subset(20589,train_time)\n",
        "sub_test_time=get_subset(24339,test_time)\n",
        "\n",
        "\n",
        "# Storing the subsets as seperate '.csv' files for future use\n",
        "sub_train_time.to_csv(\"sub_train_time.csv\", mode=\"w\")\n",
        "sub_test_time.to_csv(\"sub_test_time.csv\", mode=\"w\")"
      ],
      "metadata": {
        "id": "cbwh8kHfRhhs"
      },
      "execution_count": null,
      "outputs": []
    },
    {
      "cell_type": "markdown",
      "source": [
        "Drop rows with NaN values in train_time and test_time set."
      ],
      "metadata": {
        "id": "w1FvMNrOQjeK"
      }
    },
    {
      "cell_type": "code",
      "source": [
        "# train_time\n",
        "train_time = sub_train_time.dropna(how = \"any\")\n",
        "train_time.reset_index(drop = True, inplace = True)\n",
        "\n",
        "\n",
        "#test_time\n",
        "test_time = sub_test_time.dropna(how = \"any\")\n",
        "test_time.reset_index(drop = True, inplace = True)"
      ],
      "metadata": {
        "id": "VfJfmg9qP6pJ"
      },
      "execution_count": null,
      "outputs": []
    },
    {
      "cell_type": "code",
      "source": [
        "sub_train_time.isnull().any()"
      ],
      "metadata": {
        "colab": {
          "base_uri": "https://localhost:8080/"
        },
        "id": "1ZFRBXQ-QfwL",
        "outputId": "4d0ac163-758a-4f01-d074-e971a550d711"
      },
      "execution_count": null,
      "outputs": [
        {
          "output_type": "execute_result",
          "data": {
            "text/plain": [
              "Unnamed: 0    False\n",
              "timestamp     False\n",
              "UTC time      False\n",
              "x             False\n",
              "y             False\n",
              "z             False\n",
              "x_mean        False\n",
              "y_mean        False\n",
              "z_mean        False\n",
              "x_sd          False\n",
              "y_sd          False\n",
              "z_sd          False\n",
              "magnitude     False\n",
              "m_mean        False\n",
              "m_sd          False\n",
              "x_E           False\n",
              "y_E           False\n",
              "z_E           False\n",
              "dtype: bool"
            ]
          },
          "metadata": {},
          "execution_count": 122
        }
      ]
    },
    {
      "cell_type": "code",
      "source": [
        "sub_test_time.isnull().any()"
      ],
      "metadata": {
        "colab": {
          "base_uri": "https://localhost:8080/"
        },
        "id": "ZQ3s7KUMQpaq",
        "outputId": "20d46c92-a077-4835-88c6-6674b7042357"
      },
      "execution_count": null,
      "outputs": [
        {
          "output_type": "execute_result",
          "data": {
            "text/plain": [
              "Unnamed: 0    False\n",
              "timestamp     False\n",
              "UTC time      False\n",
              "x             False\n",
              "y             False\n",
              "z             False\n",
              "x_mean        False\n",
              "y_mean        False\n",
              "z_mean        False\n",
              "x_sd          False\n",
              "y_sd          False\n",
              "z_sd          False\n",
              "magnitude     False\n",
              "m_mean        False\n",
              "m_sd          False\n",
              "x_E           False\n",
              "y_E           False\n",
              "z_E           False\n",
              "dtype: bool"
            ]
          },
          "metadata": {},
          "execution_count": 123
        }
      ]
    },
    {
      "cell_type": "markdown",
      "source": [
        "## Imbalanced classes"
      ],
      "metadata": {
        "id": "teLDoPfaSQFV"
      }
    },
    {
      "cell_type": "code",
      "source": [
        "# Visualization of classes balance.\n",
        "\n",
        "clist = [\"red\", \"green\", \"blue\", \"yellow\"]\n",
        "\n",
        "fig, (ax1, ax2) = plt.subplots(2)\n",
        "\n",
        "train_labels[\"label\"].value_counts().plot(kind = \"bar\", color = clist, alpha = 0.5, ax = ax1)\n",
        "ax1.yaxis.grid(True)\n",
        "ax1.set_ylabel(\"Counts\")\n",
        "ax1.set_title(\"Class counts -- 1: standing, 2: walking, 3: stairs down, 4: stairs up\")\n",
        "\n",
        "distrib = train_labels[\"label\"].value_counts(normalize = True)*100.00\n",
        "distrib.plot(kind = \"bar\", color = clist, alpha = 0.5, ax = ax2)\n",
        "ax2.yaxis.grid(True)\n",
        "ax2.set_ylabel(\"%\")\n",
        "ax2.set_title(\"Class distribution -- 1: standing, 2: walking, 3: stairs down, 4: stairs up\")\n",
        "\n",
        "plt.subplots_adjust(hspace = 0.5)"
      ],
      "metadata": {
        "colab": {
          "base_uri": "https://localhost:8080/",
          "height": 447
        },
        "id": "eLx2F6epSS5y",
        "outputId": "14eacfda-df8f-4ba0-d84d-1ef6ef90a44f"
      },
      "execution_count": null,
      "outputs": [
        {
          "output_type": "display_data",
          "data": {
            "text/plain": [
              "<Figure size 640x480 with 2 Axes>"
            ],
            "image/png": "[encoded data removed]"
          },
          "metadata": {}
        }
      ]
    },
    {
      "cell_type": "markdown",
      "source": [
        "## Feature Engineering"
      ],
      "metadata": {
        "id": "C11Z6CDJNWw-"
      }
    },
    {
      "cell_type": "code",
      "source": [
        "# Feature scaling\n",
        "scaler = StandardScaler()\n",
        "X_train = scaler.fit_transform(train_time.drop(columns=['Unnamed: 0', 'UTC time']))\n",
        "y_train = train_labels['label']\n",
        "X_test = scaler.transform(test_time.drop(columns=['Unnamed: 0', 'UTC time']))\n",
        "\n",
        "# Splitting the data for model training\n",
        "X_train_split, X_val_split, y_train_split, y_val_split = train_test_split(X_train, y_train, test_size=0.2, random_state=42)\n"
      ],
      "metadata": {
        "id": "smJKWN9la1g4"
      },
      "execution_count": null,
      "outputs": []
    },
    {
      "cell_type": "markdown",
      "source": [
        "Identify the most relevant features"
      ],
      "metadata": {
        "id": "vgPrWSPpSHXh"
      }
    },
    {
      "cell_type": "code",
      "source": [
        "# Define the number of top features to select\n",
        "k_features = 10\n",
        "\n",
        "# Initialize SelectKBest with the f_classif scoring function\n",
        "selector = SelectKBest(score_func=f_classif, k=k_features)\n",
        "\n",
        "# Fit the selector to the training data\n",
        "selector.fit(X_train, y_train)\n",
        "\n",
        "# Get the indices of the selected features\n",
        "selected_features_indices = selector.get_support(indices=True)\n",
        "\n",
        "# Get the names of the selected features\n",
        "selected_features_names = train_time.drop(columns=['Unnamed: 0', 'UTC time']).columns[selected_features_indices]\n",
        "\n",
        "# Print the selected feature names\n",
        "print(\"Selected Features:\")\n",
        "print(selected_features_names)\n"
      ],
      "metadata": {
        "colab": {
          "base_uri": "https://localhost:8080/"
        },
        "id": "CIJPauwZRp3d",
        "outputId": "54aed8c2-1413-4228-fbbf-8fdff040d33e"
      },
      "execution_count": null,
      "outputs": [
        {
          "output_type": "stream",
          "name": "stdout",
          "text": [
            "Selected Features:\n",
            "Index(['timestamp', 'x_mean', 'z_mean', 'x_sd', 'y_sd', 'z_sd', 'm_mean',\n",
            "       'm_sd', 'x_E', 'z_E'],\n",
            "      dtype='object')\n"
          ]
        }
      ]
    },
    {
      "cell_type": "markdown",
      "source": [
        "These features are considered to be the most relevant for the classification task based on their statistical significance.They have a strong relationship with the target variable (activity labels) and are likely to contribute significantly to the classification model's performance.\n"
      ],
      "metadata": {
        "id": "mvuU-qeUR0Gp"
      }
    },
    {
      "cell_type": "markdown",
      "source": [
        "## Model Training and Evaluation\n",
        "Let's train different classification models and evaluate their performance."
      ],
      "metadata": {
        "id": "4y9-kml1OP6D"
      }
    },
    {
      "cell_type": "code",
      "source": [
        "# Function to train and evaluate model\n",
        "def train_and_evaluate(model, X_train, y_train, X_val, y_val):\n",
        "    model.fit(X_train, y_train)\n",
        "    y_pred = model.predict(X_val)\n",
        "    accuracy = accuracy_score(y_val, y_pred)\n",
        "    return accuracy\n",
        "\n",
        "# Initialize models\n",
        "models = {\n",
        "    \"BernoulliNB\": BernoulliNB(),\n",
        "    \"GaussianNB\": GaussianNB(),\n",
        "    \"DecisionTreeClassifier\": DecisionTreeClassifier(),\n",
        "    \"ExtraTreeClassifier\": ExtraTreeClassifier(),\n",
        "    \"ExtraTreesClassifier\": ExtraTreesClassifier(),\n",
        "    \"RandomForestClassifier\": RandomForestClassifier(),\n",
        "    \"MLPClassifier\": MLPClassifier(),\n",
        "    \"QuadraticDiscriminantAnalysis\": QuadraticDiscriminantAnalysis(),\n",
        "    \"LogisticRegression\": LogisticRegression(),\n",
        "    \"RidgeClassifier\": RidgeClassifier()\n",
        "}\n",
        "\n",
        "# Train and evaluate models\n",
        "model_accuracies = {}\n",
        "for model_name, model in models.items():\n",
        "    accuracy = train_and_evaluate(model, X_train_split, y_train_split, X_val_split, y_val_split)\n",
        "    model_accuracies[model_name] = accuracy\n",
        "\n",
        "# Display model accuracies\n",
        "print(\"Model Accuracies:\")\n",
        "for model, accuracy in model_accuracies.items():\n",
        "    print(f\"{model}: {accuracy}\")\n"
      ],
      "metadata": {
        "colab": {
          "base_uri": "https://localhost:8080/"
        },
        "id": "y8XXscWNNr6H",
        "outputId": "950b87f6-ec6b-4d24-f86c-d84a5b053e98"
      },
      "execution_count": null,
      "outputs": [
        {
          "output_type": "stream",
          "name": "stdout",
          "text": [
            "Model Accuracies:\n",
            "BernoulliNB: 0.49333333333333335\n",
            "GaussianNB: 0.5066666666666667\n",
            "DecisionTreeClassifier: 0.9866666666666667\n",
            "ExtraTreeClassifier: 0.5733333333333334\n",
            "ExtraTreesClassifier: 0.7866666666666666\n",
            "RandomForestClassifier: 0.84\n",
            "MLPClassifier: 0.7466666666666667\n",
            "QuadraticDiscriminantAnalysis: 0.5866666666666667\n",
            "LogisticRegression: 0.6533333333333333\n",
            "RidgeClassifier: 0.6666666666666666\n"
          ]
        },
        {
          "output_type": "stream",
          "name": "stderr",
          "text": [
            "/usr/local/lib/python3.10/dist-packages/sklearn/neural_network/_multilayer_perceptron.py:686: ConvergenceWarning: Stochastic Optimizer: Maximum iterations (200) reached and the optimization hasn't converged yet.\n",
            "  warnings.warn(\n"
          ]
        }
      ]
    },
    {
      "cell_type": "markdown",
      "source": [
        "Based on the model accuracies, select the best-performing model."
      ],
      "metadata": {
        "id": "p6PJYZmsOBxQ"
      }
    },
    {
      "cell_type": "code",
      "source": [
        "best_model = max(model_accuracies, key=model_accuracies.get)\n",
        "print(f\"Best Model: {best_model}\")\n"
      ],
      "metadata": {
        "colab": {
          "base_uri": "https://localhost:8080/"
        },
        "id": "uRONGlpON2zx",
        "outputId": "f94d45f3-f340-49ff-d10f-dbcdddbe8cad"
      },
      "execution_count": null,
      "outputs": [
        {
          "output_type": "stream",
          "name": "stdout",
          "text": [
            "Best Model: DecisionTreeClassifier\n"
          ]
        }
      ]
    },
    {
      "cell_type": "markdown",
      "source": [
        "The DecisionTreeClassifier achieved the highest accuracy among the models, with an accuracy of approximately 98.7%. RandomForestClassifier also performed well with an accuracy of 84.0%."
      ],
      "metadata": {
        "id": "lRo-v3BVN4XK"
      }
    },
    {
      "cell_type": "markdown",
      "source": [
        "Classification Accuracy"
      ],
      "metadata": {
        "id": "DGYsYCnJYlpN"
      }
    },
    {
      "cell_type": "code",
      "source": [
        "# Predict labels for the test set using the best model\n",
        "best_model = DecisionTreeClassifier()  # Initialize the best performing model\n",
        "best_model.fit(X_train, y_train)  # Train the model on the entire training data\n",
        "\n",
        "# Predict labels for the test data\n",
        "predicted_labels = best_model.predict(X_test)\n",
        "\n",
        "# Display the predicted labels\n",
        "print(predicted_labels)\n"
      ],
      "metadata": {
        "colab": {
          "base_uri": "https://localhost:8080/"
        },
        "id": "uoohDuvQVxjo",
        "outputId": "07f2d49a-af69-464c-e7a6-dd0acef851ba"
      },
      "execution_count": null,
      "outputs": [
        {
          "output_type": "stream",
          "name": "stdout",
          "text": [
            "[4 4 4 4 4 4 4 4 4 4 4 4 4 4 4 4 4 4 4 4 4 4 4 4 4 4 4 4 4 4 4 4 4 4 4 1 4\n",
            " 1 1 1 1 1 1 4 1 1 1 1 1 1 1 1 4 4 4 4 4 4 4 4 4 4 4 4 4 4 4 4 4 4 4 4 4 4\n",
            " 4 4 4 4 4 4 4 4 4 4 4 4 4 4 4 4 4 4 4 4 4 4 4 4 4 4 4 4 4 4 4 4 4 4 4 4 4\n",
            " 4 4 4 4 4 4 4 4 4 4 4 4 4 4]\n"
          ]
        }
      ]
    },
    {
      "cell_type": "code",
      "source": [
        "\n",
        "# Convert the predicted labels to a DataFrame\n",
        "predictions_df = pd.DataFrame({'Predicted_Labels': predicted_labels})\n",
        "\n",
        "# Save the DataFrame to a CSV file\n",
        "predictions_df.to_csv('predicted_labels.csv', index=False)\n"
      ],
      "metadata": {
        "id": "d34Xeit6bkVm"
      },
      "execution_count": null,
      "outputs": []
    },
    {
      "cell_type": "code",
      "source": [
        "# Calculate the total runtime\n",
        "end_time = time.time()\n",
        "total_runtime = end_time - start_time\n",
        "print(\"Total runtime:\", total_runtime, \"seconds\")\n"
      ],
      "metadata": {
        "colab": {
          "base_uri": "https://localhost:8080/"
        },
        "id": "KCmIbxiiaxET",
        "outputId": "6eb601e7-bd3a-4d21-9cb2-502841db5544"
      },
      "execution_count": null,
      "outputs": [
        {
          "output_type": "stream",
          "name": "stdout",
          "text": [
            "Total runtime: 6.76312780380249 seconds\n"
          ]
        }
      ]
    }
  ]
}